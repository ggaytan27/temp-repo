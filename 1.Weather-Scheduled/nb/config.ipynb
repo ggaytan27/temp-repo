{
 "cells": [
  {
   "cell_type": "markdown",
   "metadata": {},
   "source": [
    "## Libraries"
   ]
  },
  {
   "cell_type": "code",
   "execution_count": 8,
   "metadata": {},
   "outputs": [],
   "source": [
    "import win32com.client as win32\n",
    "import os\n",
    "import time\n",
    "\n",
    "from config import EMAIL, SUBJECT, API_KEY_WAPI, PROXI_USER, PROXI_PWD\n",
    "\n",
    "\n",
    "from requests import Request, Session\n",
    "from requests.exceptions import ConnectionError, Timeout, TooManyRedirects\n",
    "import json\n",
    "\n",
    "import pandas as pd\n",
    "\n",
    "import pandas as pd\n",
    "import requests\n",
    "from requests_ntlm import HttpNtlmAuth\n",
    "\n",
    "from bs4 import BeautifulSoup\n",
    "from tqdm import tqdm\n",
    "\n",
    "from datetime import datetime\n"
   ]
  },
  {
   "cell_type": "markdown",
   "metadata": {},
   "source": [
    "### Traducciones condicion clima"
   ]
  },
  {
   "cell_type": "code",
   "execution_count": 9,
   "metadata": {},
   "outputs": [],
   "source": [
    "weather_translate = {\n",
    "    'Sunny' : 'Soleado',\n",
    "    'Rain' : 'Lluvia',\n",
    "    'Cloudy' : 'Nublado',\n",
    "    'Parthly Cloudy' : 'Parcialmente Nublado',\n",
    "    'Wind' : 'Viento',\n",
    "    'Storm' : 'Tormenta',\n",
    "    'Snow' : 'Nieve'\n",
    "}"
   ]
  },
  {
   "cell_type": "markdown",
   "metadata": {},
   "source": [
    "## Data Collection"
   ]
  },
  {
   "cell_type": "code",
   "execution_count": 10,
   "metadata": {},
   "outputs": [],
   "source": [
    "query = 'Juarez'\n",
    "api_key = API_KEY_WAPI\n",
    "\n",
    "\n",
    "url = \"http://api.weatherapi.com/v1/forecast.json?key=\"+api_key+\"&q=\"+query+\"&days=1&aqi=no&alerts=no\"\n",
    "#url = 'http://api.weatherapi.com/v1/forecast.json?key=6284cbda493d471fbef03655242409&q=ciudad juarez&days=1&aqi=no&alerts=no'\n"
   ]
  },
  {
   "cell_type": "code",
   "execution_count": 11,
   "metadata": {},
   "outputs": [
    {
     "name": "stdout",
     "output_type": "stream",
     "text": [
      "Consulta realizada exitosamente\n"
     ]
    }
   ],
   "source": [
    "proxies = {\n",
    "    'http': 'http://rb-proxy-na.bosch.com:8080',\n",
    "    'https': 'http://rb-proxy-na.bosch.com:8080'\n",
    "}\n",
    "\n",
    "auth = HttpNtlmAuth(PROXI_USER, PROXI_PWD)\n",
    "\n",
    "response = requests.get(url, proxies=proxies, auth=auth)\n",
    "\n",
    "if response.status_code == 200:\n",
    "    data = response.json()\n",
    "    print(\"Consulta realizada exitosamente\")\n",
    "else:\n",
    "  print(f\"Error: {response.status_code}, {response.text}\")"
   ]
  },
  {
   "cell_type": "markdown",
   "metadata": {},
   "source": [
    "### Data Understanding"
   ]
  },
  {
   "cell_type": "code",
   "execution_count": 12,
   "metadata": {},
   "outputs": [
    {
     "data": {
      "text/plain": [
       "dict_keys(['location', 'current', 'forecast'])"
      ]
     },
     "execution_count": 12,
     "metadata": {},
     "output_type": "execute_result"
    }
   ],
   "source": [
    "data.keys()"
   ]
  },
  {
   "cell_type": "code",
   "execution_count": 13,
   "metadata": {},
   "outputs": [
    {
     "data": {
      "text/plain": [
       "dict_keys(['date', 'date_epoch', 'day', 'astro', 'hour'])"
      ]
     },
     "execution_count": 13,
     "metadata": {},
     "output_type": "execute_result"
    }
   ],
   "source": [
    "data['forecast']['forecastday'][0].keys()"
   ]
  },
  {
   "cell_type": "code",
   "execution_count": 14,
   "metadata": {},
   "outputs": [
    {
     "data": {
      "text/plain": [
       "24"
      ]
     },
     "execution_count": 14,
     "metadata": {},
     "output_type": "execute_result"
    }
   ],
   "source": [
    "len(data['forecast']['forecastday'][0]['hour'])"
   ]
  },
  {
   "cell_type": "code",
   "execution_count": 15,
   "metadata": {},
   "outputs": [
    {
     "data": {
      "text/plain": [
       "'2024-09-30'"
      ]
     },
     "execution_count": 15,
     "metadata": {},
     "output_type": "execute_result"
    }
   ],
   "source": [
    "data['forecast']['forecastday'][0]['hour'][1]['time'].split()[0] #fecha"
   ]
  },
  {
   "cell_type": "code",
   "execution_count": 16,
   "metadata": {},
   "outputs": [
    {
     "data": {
      "text/plain": [
       "1"
      ]
     },
     "execution_count": 16,
     "metadata": {},
     "output_type": "execute_result"
    }
   ],
   "source": [
    "int(data['forecast']['forecastday'][0]['hour'][1]['time'].split()[1].split(':')[0]) #hora"
   ]
  },
  {
   "cell_type": "code",
   "execution_count": 17,
   "metadata": {},
   "outputs": [
    {
     "data": {
      "text/plain": [
       "'Clear '"
      ]
     },
     "execution_count": 17,
     "metadata": {},
     "output_type": "execute_result"
    }
   ],
   "source": [
    "data['forecast']['forecastday'][0]['hour'][0]['condition']['text'] #condition"
   ]
  },
  {
   "cell_type": "code",
   "execution_count": 18,
   "metadata": {},
   "outputs": [
    {
     "data": {
      "text/plain": [
       "24.7"
      ]
     },
     "execution_count": 18,
     "metadata": {},
     "output_type": "execute_result"
    }
   ],
   "source": [
    "data['forecast']['forecastday'][0]['hour'][0]['temp_c'] #temperatura\n"
   ]
  },
  {
   "cell_type": "code",
   "execution_count": 19,
   "metadata": {},
   "outputs": [
    {
     "data": {
      "text/plain": [
       "0"
      ]
     },
     "execution_count": 19,
     "metadata": {},
     "output_type": "execute_result"
    }
   ],
   "source": [
    "data['forecast']['forecastday'][0]['hour'][0]['will_it_rain'] #llovera (1 si, 0 no      )"
   ]
  },
  {
   "cell_type": "code",
   "execution_count": 20,
   "metadata": {},
   "outputs": [
    {
     "data": {
      "text/plain": [
       "0"
      ]
     },
     "execution_count": 20,
     "metadata": {},
     "output_type": "execute_result"
    }
   ],
   "source": [
    "data['forecast']['forecastday'][0]['hour'][0]['chance_of_rain'] #Posbilidad de lluvia\n"
   ]
  },
  {
   "cell_type": "code",
   "execution_count": 21,
   "metadata": {},
   "outputs": [
    {
     "data": {
      "text/plain": [
       "34.1"
      ]
     },
     "execution_count": 21,
     "metadata": {},
     "output_type": "execute_result"
    }
   ],
   "source": [
    "data['forecast']['forecastday'][0]['day']['maxtemp_c'] #maxtemp"
   ]
  },
  {
   "cell_type": "code",
   "execution_count": 22,
   "metadata": {},
   "outputs": [
    {
     "data": {
      "text/plain": [
       "0"
      ]
     },
     "execution_count": 22,
     "metadata": {},
     "output_type": "execute_result"
    }
   ],
   "source": [
    "data['forecast']['forecastday'][0]['day']['daily_chance_of_rain'] #%lluvia"
   ]
  },
  {
   "cell_type": "code",
   "execution_count": 23,
   "metadata": {},
   "outputs": [
    {
     "data": {
      "text/plain": [
       "'Sunny'"
      ]
     },
     "execution_count": 23,
     "metadata": {},
     "output_type": "execute_result"
    }
   ],
   "source": [
    "data['forecast']['forecastday'][0]['day']['condition']['text'] #condicion clima"
   ]
  },
  {
   "cell_type": "code",
   "execution_count": 24,
   "metadata": {},
   "outputs": [
    {
     "data": {
      "text/plain": [
       "'2024-09-30'"
      ]
     },
     "execution_count": 24,
     "metadata": {},
     "output_type": "execute_result"
    }
   ],
   "source": [
    "data['forecast']['forecastday'][0]['date'] #fecha"
   ]
  },
  {
   "cell_type": "markdown",
   "metadata": {},
   "source": [
    "### Data Transformation - Version original proyecto"
   ]
  },
  {
   "cell_type": "code",
   "execution_count": 25,
   "metadata": {},
   "outputs": [],
   "source": [
    "def get_forecast(data, i):\n",
    "    fecha = data['forecast']['forecastday'][0]['hour'][i]['time'].split()[0] #fecha\n",
    "    hora = int(data['forecast']['forecastday'][0]['hour'][i]['time'].split()[1].split(':')[0]) #hora\n",
    "    condicion = data['forecast']['forecastday'][0]['hour'][i]['condition']['text'] #condition\n",
    "    temp = data['forecast']['forecastday'][0]['hour'][i]['temp_c'] #temperatura\n",
    "    rain = data['forecast']['forecastday'][0]['hour'][i]['will_it_rain'] #llovera (1 si, 0 no      )\n",
    "    prob_rain = data['forecast']['forecastday'][0]['hour'][i]['chance_of_rain'] #Posbilidad de lluvia\n",
    "\n",
    "    return fecha, hora, condicion, temp, rain, prob_rain"
   ]
  },
  {
   "cell_type": "code",
   "execution_count": 26,
   "metadata": {},
   "outputs": [
    {
     "name": "stderr",
     "output_type": "stream",
     "text": [
      "100%|\u001b[32m██████████\u001b[0m| 24/24 [00:00<?, ?it/s]\n"
     ]
    }
   ],
   "source": [
    "datos = []\n",
    "\n",
    "for i in tqdm(range(len(data['forecast']['forecastday'][0]['hour'])), colour = 'green'):\n",
    "    datos.append(get_forecast(data, i))"
   ]
  },
  {
   "cell_type": "code",
   "execution_count": 27,
   "metadata": {},
   "outputs": [
    {
     "data": {
      "text/html": [
       "<div>\n",
       "<style scoped>\n",
       "    .dataframe tbody tr th:only-of-type {\n",
       "        vertical-align: middle;\n",
       "    }\n",
       "\n",
       "    .dataframe tbody tr th {\n",
       "        vertical-align: top;\n",
       "    }\n",
       "\n",
       "    .dataframe thead th {\n",
       "        text-align: right;\n",
       "    }\n",
       "</style>\n",
       "<table border=\"1\" class=\"dataframe\">\n",
       "  <thead>\n",
       "    <tr style=\"text-align: right;\">\n",
       "      <th></th>\n",
       "      <th>fecha</th>\n",
       "      <th>hora</th>\n",
       "      <th>condicion</th>\n",
       "      <th>temp</th>\n",
       "      <th>rain</th>\n",
       "      <th>prob_rain</th>\n",
       "    </tr>\n",
       "  </thead>\n",
       "  <tbody>\n",
       "    <tr>\n",
       "      <th>0</th>\n",
       "      <td>2024-09-30</td>\n",
       "      <td>0</td>\n",
       "      <td>Clear</td>\n",
       "      <td>24.7</td>\n",
       "      <td>0</td>\n",
       "      <td>0</td>\n",
       "    </tr>\n",
       "    <tr>\n",
       "      <th>1</th>\n",
       "      <td>2024-09-30</td>\n",
       "      <td>1</td>\n",
       "      <td>Clear</td>\n",
       "      <td>24.0</td>\n",
       "      <td>0</td>\n",
       "      <td>0</td>\n",
       "    </tr>\n",
       "    <tr>\n",
       "      <th>2</th>\n",
       "      <td>2024-09-30</td>\n",
       "      <td>2</td>\n",
       "      <td>Clear</td>\n",
       "      <td>23.3</td>\n",
       "      <td>0</td>\n",
       "      <td>0</td>\n",
       "    </tr>\n",
       "    <tr>\n",
       "      <th>3</th>\n",
       "      <td>2024-09-30</td>\n",
       "      <td>3</td>\n",
       "      <td>Clear</td>\n",
       "      <td>22.5</td>\n",
       "      <td>0</td>\n",
       "      <td>0</td>\n",
       "    </tr>\n",
       "    <tr>\n",
       "      <th>4</th>\n",
       "      <td>2024-09-30</td>\n",
       "      <td>4</td>\n",
       "      <td>Clear</td>\n",
       "      <td>21.8</td>\n",
       "      <td>0</td>\n",
       "      <td>0</td>\n",
       "    </tr>\n",
       "    <tr>\n",
       "      <th>5</th>\n",
       "      <td>2024-09-30</td>\n",
       "      <td>5</td>\n",
       "      <td>Clear</td>\n",
       "      <td>21.2</td>\n",
       "      <td>0</td>\n",
       "      <td>0</td>\n",
       "    </tr>\n",
       "    <tr>\n",
       "      <th>6</th>\n",
       "      <td>2024-09-30</td>\n",
       "      <td>6</td>\n",
       "      <td>Clear</td>\n",
       "      <td>20.7</td>\n",
       "      <td>0</td>\n",
       "      <td>0</td>\n",
       "    </tr>\n",
       "    <tr>\n",
       "      <th>7</th>\n",
       "      <td>2024-09-30</td>\n",
       "      <td>7</td>\n",
       "      <td>Clear</td>\n",
       "      <td>20.4</td>\n",
       "      <td>0</td>\n",
       "      <td>0</td>\n",
       "    </tr>\n",
       "    <tr>\n",
       "      <th>8</th>\n",
       "      <td>2024-09-30</td>\n",
       "      <td>8</td>\n",
       "      <td>Sunny</td>\n",
       "      <td>21.5</td>\n",
       "      <td>0</td>\n",
       "      <td>0</td>\n",
       "    </tr>\n",
       "    <tr>\n",
       "      <th>9</th>\n",
       "      <td>2024-09-30</td>\n",
       "      <td>9</td>\n",
       "      <td>Sunny</td>\n",
       "      <td>23.9</td>\n",
       "      <td>0</td>\n",
       "      <td>0</td>\n",
       "    </tr>\n",
       "    <tr>\n",
       "      <th>10</th>\n",
       "      <td>2024-09-30</td>\n",
       "      <td>10</td>\n",
       "      <td>Sunny</td>\n",
       "      <td>27.7</td>\n",
       "      <td>0</td>\n",
       "      <td>0</td>\n",
       "    </tr>\n",
       "    <tr>\n",
       "      <th>11</th>\n",
       "      <td>2024-09-30</td>\n",
       "      <td>11</td>\n",
       "      <td>Sunny</td>\n",
       "      <td>30.2</td>\n",
       "      <td>0</td>\n",
       "      <td>0</td>\n",
       "    </tr>\n",
       "    <tr>\n",
       "      <th>12</th>\n",
       "      <td>2024-09-30</td>\n",
       "      <td>12</td>\n",
       "      <td>Sunny</td>\n",
       "      <td>31.1</td>\n",
       "      <td>0</td>\n",
       "      <td>0</td>\n",
       "    </tr>\n",
       "    <tr>\n",
       "      <th>13</th>\n",
       "      <td>2024-09-30</td>\n",
       "      <td>13</td>\n",
       "      <td>Sunny</td>\n",
       "      <td>31.6</td>\n",
       "      <td>0</td>\n",
       "      <td>0</td>\n",
       "    </tr>\n",
       "    <tr>\n",
       "      <th>14</th>\n",
       "      <td>2024-09-30</td>\n",
       "      <td>14</td>\n",
       "      <td>Sunny</td>\n",
       "      <td>32.8</td>\n",
       "      <td>0</td>\n",
       "      <td>0</td>\n",
       "    </tr>\n",
       "    <tr>\n",
       "      <th>15</th>\n",
       "      <td>2024-09-30</td>\n",
       "      <td>15</td>\n",
       "      <td>Sunny</td>\n",
       "      <td>33.4</td>\n",
       "      <td>0</td>\n",
       "      <td>0</td>\n",
       "    </tr>\n",
       "    <tr>\n",
       "      <th>16</th>\n",
       "      <td>2024-09-30</td>\n",
       "      <td>16</td>\n",
       "      <td>Sunny</td>\n",
       "      <td>33.3</td>\n",
       "      <td>0</td>\n",
       "      <td>0</td>\n",
       "    </tr>\n",
       "    <tr>\n",
       "      <th>17</th>\n",
       "      <td>2024-09-30</td>\n",
       "      <td>17</td>\n",
       "      <td>Sunny</td>\n",
       "      <td>32.4</td>\n",
       "      <td>0</td>\n",
       "      <td>0</td>\n",
       "    </tr>\n",
       "    <tr>\n",
       "      <th>18</th>\n",
       "      <td>2024-09-30</td>\n",
       "      <td>18</td>\n",
       "      <td>Sunny</td>\n",
       "      <td>30.4</td>\n",
       "      <td>0</td>\n",
       "      <td>0</td>\n",
       "    </tr>\n",
       "    <tr>\n",
       "      <th>19</th>\n",
       "      <td>2024-09-30</td>\n",
       "      <td>19</td>\n",
       "      <td>Sunny</td>\n",
       "      <td>28.1</td>\n",
       "      <td>0</td>\n",
       "      <td>0</td>\n",
       "    </tr>\n",
       "    <tr>\n",
       "      <th>20</th>\n",
       "      <td>2024-09-30</td>\n",
       "      <td>20</td>\n",
       "      <td>Clear</td>\n",
       "      <td>26.6</td>\n",
       "      <td>0</td>\n",
       "      <td>0</td>\n",
       "    </tr>\n",
       "    <tr>\n",
       "      <th>21</th>\n",
       "      <td>2024-09-30</td>\n",
       "      <td>21</td>\n",
       "      <td>Clear</td>\n",
       "      <td>25.6</td>\n",
       "      <td>0</td>\n",
       "      <td>0</td>\n",
       "    </tr>\n",
       "    <tr>\n",
       "      <th>22</th>\n",
       "      <td>2024-09-30</td>\n",
       "      <td>22</td>\n",
       "      <td>Clear</td>\n",
       "      <td>25.0</td>\n",
       "      <td>0</td>\n",
       "      <td>0</td>\n",
       "    </tr>\n",
       "    <tr>\n",
       "      <th>23</th>\n",
       "      <td>2024-09-30</td>\n",
       "      <td>23</td>\n",
       "      <td>Clear</td>\n",
       "      <td>24.5</td>\n",
       "      <td>0</td>\n",
       "      <td>0</td>\n",
       "    </tr>\n",
       "  </tbody>\n",
       "</table>\n",
       "</div>"
      ],
      "text/plain": [
       "         fecha  hora condicion  temp  rain  prob_rain\n",
       "0   2024-09-30     0    Clear   24.7     0          0\n",
       "1   2024-09-30     1    Clear   24.0     0          0\n",
       "2   2024-09-30     2    Clear   23.3     0          0\n",
       "3   2024-09-30     3    Clear   22.5     0          0\n",
       "4   2024-09-30     4    Clear   21.8     0          0\n",
       "5   2024-09-30     5    Clear   21.2     0          0\n",
       "6   2024-09-30     6    Clear   20.7     0          0\n",
       "7   2024-09-30     7    Clear   20.4     0          0\n",
       "8   2024-09-30     8     Sunny  21.5     0          0\n",
       "9   2024-09-30     9     Sunny  23.9     0          0\n",
       "10  2024-09-30    10     Sunny  27.7     0          0\n",
       "11  2024-09-30    11     Sunny  30.2     0          0\n",
       "12  2024-09-30    12     Sunny  31.1     0          0\n",
       "13  2024-09-30    13     Sunny  31.6     0          0\n",
       "14  2024-09-30    14     Sunny  32.8     0          0\n",
       "15  2024-09-30    15     Sunny  33.4     0          0\n",
       "16  2024-09-30    16     Sunny  33.3     0          0\n",
       "17  2024-09-30    17     Sunny  32.4     0          0\n",
       "18  2024-09-30    18     Sunny  30.4     0          0\n",
       "19  2024-09-30    19     Sunny  28.1     0          0\n",
       "20  2024-09-30    20    Clear   26.6     0          0\n",
       "21  2024-09-30    21    Clear   25.6     0          0\n",
       "22  2024-09-30    22    Clear   25.0     0          0\n",
       "23  2024-09-30    23    Clear   24.5     0          0"
      ]
     },
     "execution_count": 27,
     "metadata": {},
     "output_type": "execute_result"
    }
   ],
   "source": [
    "col = ['fecha', 'hora', 'condicion', 'temp', 'rain', 'prob_rain']\n",
    "df_weather = pd.DataFrame(datos, columns=col)\n",
    "df_weather\n"
   ]
  },
  {
   "cell_type": "code",
   "execution_count": 28,
   "metadata": {},
   "outputs": [],
   "source": [
    "df_rain = df_weather[(df_weather['rain'] == 1) & (df_weather['hora']> 6) & (df_weather['hora'] < 22)]\n",
    "df_rain = df_rain[['hora', 'condicion']]\n",
    "df_rain.set_index('hora', inplace = True)"
   ]
  },
  {
   "cell_type": "code",
   "execution_count": 29,
   "metadata": {},
   "outputs": [
    {
     "data": {
      "text/html": [
       "<div>\n",
       "<style scoped>\n",
       "    .dataframe tbody tr th:only-of-type {\n",
       "        vertical-align: middle;\n",
       "    }\n",
       "\n",
       "    .dataframe tbody tr th {\n",
       "        vertical-align: top;\n",
       "    }\n",
       "\n",
       "    .dataframe thead th {\n",
       "        text-align: right;\n",
       "    }\n",
       "</style>\n",
       "<table border=\"1\" class=\"dataframe\">\n",
       "  <thead>\n",
       "    <tr style=\"text-align: right;\">\n",
       "      <th></th>\n",
       "      <th>condicion</th>\n",
       "    </tr>\n",
       "    <tr>\n",
       "      <th>hora</th>\n",
       "      <th></th>\n",
       "    </tr>\n",
       "  </thead>\n",
       "  <tbody>\n",
       "  </tbody>\n",
       "</table>\n",
       "</div>"
      ],
      "text/plain": [
       "Empty DataFrame\n",
       "Columns: [condicion]\n",
       "Index: []"
      ]
     },
     "execution_count": 29,
     "metadata": {},
     "output_type": "execute_result"
    }
   ],
   "source": [
    "df_rain"
   ]
  },
  {
   "cell_type": "markdown",
   "metadata": {},
   "source": [
    "### Data Transformation - Version Personal"
   ]
  },
  {
   "cell_type": "code",
   "execution_count": 30,
   "metadata": {},
   "outputs": [],
   "source": [
    "date = data['forecast']['forecastday'][0]['date'] #fecha\n",
    "maxTemp= data['forecast']['forecastday'][0]['day']['maxtemp_c'] #maxtemp\n",
    "minTemp= data['forecast']['forecastday'][0]['day']['mintemp_c'] #mintemp\n",
    "chanceRain = data['forecast']['forecastday'][0]['hour'][0]['chance_of_rain'] #Posbilidad de lluvia\n",
    "weatherCondition = data['forecast']['forecastday'][0]['day']['condition']['text'] #condicion clima\n",
    "\n",
    "weatherConditionTranslate = weather_translate[weatherCondition]\n",
    "\n",
    "if not weatherConditionTranslate:\n",
    "    weatherConditionTranslate = weatherCondition"
   ]
  },
  {
   "cell_type": "code",
   "execution_count": 31,
   "metadata": {},
   "outputs": [],
   "source": [
    "mensaje = 'Hola, este es el pronostico del clima del dia de hoy: ' + date + '\\nTemperadura Maxima: '+ str(maxTemp) +' °C\\nTemperadura Minima: '+ str(minTemp) +' °C\\nPosibilidad de Lluvia: '+ str(chanceRain) + '%' +'\\nCondicion: '+ str(weatherConditionTranslate)"
   ]
  },
  {
   "cell_type": "code",
   "execution_count": 32,
   "metadata": {},
   "outputs": [
    {
     "name": "stdout",
     "output_type": "stream",
     "text": [
      "Hola, este es el pronostico del clima del dia de hoy: 2024-09-30\n",
      "Temperadura Maxima: 34.1 °C\n",
      "Temperadura Minima: 20.1 °C\n",
      "Posibilidad de Lluvia: 0%\n",
      "Condicion: Soleado\n"
     ]
    }
   ],
   "source": [
    "print(mensaje)"
   ]
  },
  {
   "cell_type": "code",
   "execution_count": 33,
   "metadata": {},
   "outputs": [],
   "source": [
    "outlook = win32.Dispatch('outlook.application')\n",
    "mail = outlook.CreateItem(0)\n",
    "mail.TO = EMAIL\n",
    "mail.Subject = SUBJECT\n",
    "mail.Body = mensaje"
   ]
  },
  {
   "cell_type": "code",
   "execution_count": 34,
   "metadata": {},
   "outputs": [],
   "source": [
    "mail.Send()"
   ]
  }
 ],
 "metadata": {
  "kernelspec": {
   "display_name": "env",
   "language": "python",
   "name": "python3"
  },
  "language_info": {
   "codemirror_mode": {
    "name": "ipython",
    "version": 3
   },
   "file_extension": ".py",
   "mimetype": "text/x-python",
   "name": "python",
   "nbconvert_exporter": "python",
   "pygments_lexer": "ipython3",
   "version": "3.11.3"
  }
 },
 "nbformat": 4,
 "nbformat_minor": 2
}
