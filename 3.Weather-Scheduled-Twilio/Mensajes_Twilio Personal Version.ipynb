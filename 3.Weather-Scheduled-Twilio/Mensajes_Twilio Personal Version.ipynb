{
 "cells": [
  {
   "cell_type": "code",
   "execution_count": 2,
   "id": "4541a82f",
   "metadata": {},
   "outputs": [],
   "source": [
    "#pip3 install twilio\n",
    "#pip install bs4\n",
    "#pip install tqdm"
   ]
  },
  {
   "cell_type": "code",
   "execution_count": 2,
   "id": "3faacf0d",
   "metadata": {},
   "outputs": [],
   "source": [
    "import os\n",
    "from twilio.rest import Client\n",
    "from twilio_config import TWILIO_ACCOUNT_SID, TWILIO_AUTH_TOKEN, PHONE_NUMBER, API_KEY_WAPI\n",
    "import time\n",
    "\n",
    "from requests import Request, Session\n",
    "from requests.exceptions import ConnectionError, Timeout, TooManyRedirects\n",
    "import json\n",
    "\n",
    "import pandas as pd\n",
    "import requests\n",
    "from bs4 import BeautifulSoup\n",
    "from tqdm import tqdm\n",
    "\n",
    "from datetime import datetime"
   ]
  },
  {
   "cell_type": "code",
   "execution_count": 22,
   "id": "a686ed5d",
   "metadata": {},
   "outputs": [
    {
     "name": "stdout",
     "output_type": "stream",
     "text": [
      "Account SID ACe98cc22418d6aa9fab461892dffd38c3\n",
      "Token 9ba08fbf2af24974260a98932d2090bb\n"
     ]
    }
   ],
   "source": [
    "print(\"Account SID\", TWILIO_ACCOUNT_SID)\n",
    "\n",
    "print(\"Token\", TWILIO_AUTH_TOKEN)"
   ]
  },
  {
   "attachments": {},
   "cell_type": "markdown",
   "id": "e58fb780",
   "metadata": {},
   "source": [
    "# Armado de la URL"
   ]
  },
  {
   "attachments": {},
   "cell_type": "markdown",
   "id": "146f742b",
   "metadata": {},
   "source": [
    "## Call"
   ]
  },
  {
   "cell_type": "code",
   "execution_count": 3,
   "id": "640fd538",
   "metadata": {},
   "outputs": [],
   "source": [
    "#Preparando Llamada o url \n",
    "query = 'Ciudad Juarez'\n",
    "api_key = API_KEY_WAPI\n",
    "url_clima = 'http://api.weatherapi.com/v1/forecast.json?key='+api_key+'&q='+query+'&days=2&aqi=no&alerts=no'"
   ]
  },
  {
   "cell_type": "code",
   "execution_count": 4,
   "id": "da283755",
   "metadata": {},
   "outputs": [],
   "source": [
    "#Realizando llamada o peticion y conviertiendo resultado en formato JSON\n",
    "response = requests.get(url_clima).json()"
   ]
  },
  {
   "cell_type": "code",
   "execution_count": 5,
   "id": "22089156",
   "metadata": {},
   "outputs": [
    {
     "name": "stdout",
     "output_type": "stream",
     "text": [
      "{'location': {'name': 'Ciudad Juarez', 'region': 'Chihuahua', 'country': 'Mexico', 'lat': 31.73, 'lon': -106.48, 'tz_id': 'America/Ojinaga', 'localtime_epoch': 1685024732, 'localtime': '2023-05-25 9:25'}, 'current': {'last_updated_epoch': 1685024100, 'last_updated': '2023-05-25 09:15', 'temp_c': 22.0, 'temp_f': 71.6, 'is_day': 1, 'condition': {'text': 'Partly cloudy', 'icon': '//cdn.weatherapi.com/weather/64x64/day/116.png', 'code': 1003}, 'wind_mph': 4.3, 'wind_kph': 6.8, 'wind_degree': 210, 'wind_dir': 'SSW', 'pressure_mb': 1015.0, 'pressure_in': 29.96, 'precip_mm': 0.0, 'precip_in': 0.0, 'humidity': 17, 'cloud': 25, 'feelslike_c': 22.1, 'feelslike_f': 71.7, 'vis_km': 16.0, 'vis_miles': 9.0, 'uv': 6.0, 'gust_mph': 2.5, 'gust_kph': 4.0}, 'forecast': {'forecastday': [{'date': '2023-05-25', 'date_epoch': 1684972800, 'day': {'maxtemp_c': 34.8, 'maxtemp_f': 94.6, 'mintemp_c': 21.8, 'mintemp_f': 71.2, 'avgtemp_c': 28.6, 'avgtemp_f': 83.4, 'maxwind_mph': 11.4, 'maxwind_kph': 18.4, 'totalprecip_mm': 0.0, 'totalprecip_in': 0.0, 'totalsnow_cm': 0.0, 'avgvis_km': 10.0, 'avgvis_miles': 6.0, 'avghumidity': 13.0, 'daily_will_it_rain': 0, 'daily_chance_of_rain': 0, 'daily_will_it_snow': 0, 'daily_chance_of_snow': 0, 'condition': {'text': 'Sunny', 'icon': '//cdn.weatherapi.com/weather/64x64/day/113.png', 'code': 1000}, 'uv': 7.0}, 'astro': {'sunrise': '06:04 AM', 'sunset': '08:02 PM', 'moonrise': '11:06 AM', 'moonset': '12:44 AM', 'moon_phase': 'Waxing Crescent', 'moon_illumination': '26', 'is_moon_up': 1, 'is_sun_up': 1}, 'hour': [{'time_epoch': 1684990800, 'time': '2023-05-25 00:00', 'temp_c': 28.4, 'temp_f': 83.1, 'is_day': 0, 'condition': {'text': 'Clear', 'icon': '//cdn.weatherapi.com/weather/64x64/night/113.png', 'code': 1000}, 'wind_mph': 8.3, 'wind_kph': 13.3, 'wind_degree': 256, 'wind_dir': 'WSW', 'pressure_mb': 1007.0, 'pressure_in': 29.74, 'precip_mm': 0.0, 'precip_in': 0.0, 'humidity': 11, 'cloud': 0, 'feelslike_c': 26.4, 'feelslike_f': 79.5, 'windchill_c': 28.4, 'windchill_f': 83.1, 'heatindex_c': 26.4, 'heatindex_f': 79.5, 'dewpoint_c': -4.4, 'dewpoint_f': 24.1, 'will_it_rain': 0, 'chance_of_rain': 0, 'will_it_snow': 0, 'chance_of_snow': 0, 'vis_km': 10.0, 'vis_miles': 6.0, 'gust_mph': 12.1, 'gust_kph': 19.4, 'uv': 1.0}, {'time_epoch': 1684994400, 'time': '2023-05-25 01:00', 'temp_c': 27.1, 'temp_f': 80.8, 'is_day': 0, 'condition': {'text': 'Clear', 'icon': '//cdn.weatherapi.com/weather/64x64/night/113.png', 'code': 1000}, 'wind_mph': 7.6, 'wind_kph': 12.2, 'wind_degree': 270, 'wind_dir': 'W', 'pressure_mb': 1008.0, 'pressure_in': 29.75, 'precip_mm': 0.0, 'precip_in': 0.0, 'humidity': 10, 'cloud': 0, 'feelslike_c': 25.3, 'feelslike_f': 77.5, 'windchill_c': 27.1, 'windchill_f': 80.8, 'heatindex_c': 25.3, 'heatindex_f': 77.5, 'dewpoint_c': -6.5, 'dewpoint_f': 20.3, 'will_it_rain': 0, 'chance_of_rain': 0, 'will_it_snow': 0, 'chance_of_snow': 0, 'vis_km': 10.0, 'vis_miles': 6.0, 'gust_mph': 11.4, 'gust_kph': 18.4, 'uv': 1.0}, {'time_epoch': 1684998000, 'time': '2023-05-25 02:00', 'temp_c': 26.0, 'temp_f': 78.8, 'is_day': 0, 'condition': {'text': 'Clear', 'icon': '//cdn.weatherapi.com/weather/64x64/night/113.png', 'code': 1000}, 'wind_mph': 7.6, 'wind_kph': 12.2, 'wind_degree': 274, 'wind_dir': 'W', 'pressure_mb': 1008.0, 'pressure_in': 29.76, 'precip_mm': 0.0, 'precip_in': 0.0, 'humidity': 11, 'cloud': 0, 'feelslike_c': 24.5, 'feelslike_f': 76.1, 'windchill_c': 26.0, 'windchill_f': 78.8, 'heatindex_c': 24.5, 'heatindex_f': 76.1, 'dewpoint_c': -6.7, 'dewpoint_f': 19.9, 'will_it_rain': 0, 'chance_of_rain': 0, 'will_it_snow': 0, 'chance_of_snow': 0, 'vis_km': 10.0, 'vis_miles': 6.0, 'gust_mph': 12.3, 'gust_kph': 19.8, 'uv': 1.0}, {'time_epoch': 1685001600, 'time': '2023-05-25 03:00', 'temp_c': 25.0, 'temp_f': 77.0, 'is_day': 0, 'condition': {'text': 'Clear', 'icon': '//cdn.weatherapi.com/weather/64x64/night/113.png', 'code': 1000}, 'wind_mph': 8.5, 'wind_kph': 13.7, 'wind_degree': 278, 'wind_dir': 'W', 'pressure_mb': 1008.0, 'pressure_in': 29.76, 'precip_mm': 0.0, 'precip_in': 0.0, 'humidity': 12, 'cloud': 0, 'feelslike_c': 23.8, 'feelslike_f': 74.8, 'windchill_c': 25.0, 'windchill_f': 77.0, 'heatindex_c': 23.8, 'heatindex_f': 74.8, 'dewpoint_c': -6.5, 'dewpoint_f': 20.3, 'will_it_rain': 0, 'chance_of_rain': 0, 'will_it_snow': 0, 'chance_of_snow': 0, 'vis_km': 10.0, 'vis_miles': 6.0, 'gust_mph': 13.9, 'gust_kph': 22.3, 'uv': 1.0}, {'time_epoch': 1685005200, 'time': '2023-05-25 04:00', 'temp_c': 23.6, 'temp_f': 74.5, 'is_day': 0, 'condition': {'text': 'Clear', 'icon': '//cdn.weatherapi.com/weather/64x64/night/113.png', 'code': 1000}, 'wind_mph': 7.2, 'wind_kph': 11.5, 'wind_degree': 287, 'wind_dir': 'WNW', 'pressure_mb': 1008.0, 'pressure_in': 29.77, 'precip_mm': 0.0, 'precip_in': 0.0, 'humidity': 14, 'cloud': 0, 'feelslike_c': 22.9, 'feelslike_f': 73.2, 'windchill_c': 23.6, 'windchill_f': 74.5, 'heatindex_c': 22.9, 'heatindex_f': 73.2, 'dewpoint_c': -5.6, 'dewpoint_f': 21.9, 'will_it_rain': 0, 'chance_of_rain': 0, 'will_it_snow': 0, 'chance_of_snow': 0, 'vis_km': 10.0, 'vis_miles': 6.0, 'gust_mph': 12.5, 'gust_kph': 20.2, 'uv': 1.0}, {'time_epoch': 1685008800, 'time': '2023-05-25 05:00', 'temp_c': 22.9, 'temp_f': 73.2, 'is_day': 0, 'condition': {'text': 'Clear', 'icon': '//cdn.weatherapi.com/weather/64x64/night/113.png', 'code': 1000}, 'wind_mph': 4.7, 'wind_kph': 7.6, 'wind_degree': 296, 'wind_dir': 'WNW', 'pressure_mb': 1009.0, 'pressure_in': 29.78, 'precip_mm': 0.0, 'precip_in': 0.0, 'humidity': 17, 'cloud': 0, 'feelslike_c': 22.5, 'feelslike_f': 72.5, 'windchill_c': 22.9, 'windchill_f': 73.2, 'heatindex_c': 22.5, 'heatindex_f': 72.5, 'dewpoint_c': -3.5, 'dewpoint_f': 25.7, 'will_it_rain': 0, 'chance_of_rain': 0, 'will_it_snow': 0, 'chance_of_snow': 0, 'vis_km': 10.0, 'vis_miles': 6.0, 'gust_mph': 8.3, 'gust_kph': 13.3, 'uv': 1.0}, {'time_epoch': 1685012400, 'time': '2023-05-25 06:00', 'temp_c': 22.1, 'temp_f': 71.8, 'is_day': 0, 'condition': {'text': 'Clear', 'icon': '//cdn.weatherapi.com/weather/64x64/night/113.png', 'code': 1000}, 'wind_mph': 2.9, 'wind_kph': 4.7, 'wind_degree': 296, 'wind_dir': 'WNW', 'pressure_mb': 1009.0, 'pressure_in': 29.8, 'precip_mm': 0.0, 'precip_in': 0.0, 'humidity': 19, 'cloud': 0, 'feelslike_c': 22.1, 'feelslike_f': 71.8, 'windchill_c': 22.1, 'windchill_f': 71.8, 'heatindex_c': 22.1, 'heatindex_f': 71.8, 'dewpoint_c': -2.2, 'dewpoint_f': 28.0, 'will_it_rain': 0, 'chance_of_rain': 0, 'will_it_snow': 0, 'chance_of_snow': 0, 'vis_km': 10.0, 'vis_miles': 6.0, 'gust_mph': 5.4, 'gust_kph': 8.6, 'uv': 1.0}, {'time_epoch': 1685016000, 'time': '2023-05-25 07:00', 'temp_c': 21.7, 'temp_f': 71.1, 'is_day': 1, 'condition': {'text': 'Sunny', 'icon': '//cdn.weatherapi.com/weather/64x64/day/113.png', 'code': 1000}, 'wind_mph': 2.5, 'wind_kph': 4.0, 'wind_degree': 268, 'wind_dir': 'W', 'pressure_mb': 1009.0, 'pressure_in': 29.81, 'precip_mm': 0.0, 'precip_in': 0.0, 'humidity': 20, 'cloud': 0, 'feelslike_c': 21.7, 'feelslike_f': 71.1, 'windchill_c': 21.7, 'windchill_f': 71.1, 'heatindex_c': 22.0, 'heatindex_f': 71.6, 'dewpoint_c': -2.0, 'dewpoint_f': 28.4, 'will_it_rain': 0, 'chance_of_rain': 0, 'will_it_snow': 0, 'chance_of_snow': 0, 'vis_km': 10.0, 'vis_miles': 6.0, 'gust_mph': 4.5, 'gust_kph': 7.2, 'uv': 6.0}, {'time_epoch': 1685019600, 'time': '2023-05-25 08:00', 'temp_c': 22.7, 'temp_f': 72.9, 'is_day': 1, 'condition': {'text': 'Sunny', 'icon': '//cdn.weatherapi.com/weather/64x64/day/113.png', 'code': 1000}, 'wind_mph': 2.5, 'wind_kph': 4.0, 'wind_degree': 263, 'wind_dir': 'W', 'pressure_mb': 1010.0, 'pressure_in': 29.83, 'precip_mm': 0.0, 'precip_in': 0.0, 'humidity': 20, 'cloud': 0, 'feelslike_c': 22.4, 'feelslike_f': 72.3, 'windchill_c': 22.7, 'windchill_f': 72.9, 'heatindex_c': 22.4, 'heatindex_f': 72.3, 'dewpoint_c': -1.3, 'dewpoint_f': 29.7, 'will_it_rain': 0, 'chance_of_rain': 0, 'will_it_snow': 0, 'chance_of_snow': 0, 'vis_km': 10.0, 'vis_miles': 6.0, 'gust_mph': 3.6, 'gust_kph': 5.8, 'uv': 6.0}, {'time_epoch': 1685023200, 'time': '2023-05-25 09:00', 'temp_c': 24.2, 'temp_f': 75.6, 'is_day': 1, 'condition': {'text': 'Sunny', 'icon': '//cdn.weatherapi.com/weather/64x64/day/113.png', 'code': 1000}, 'wind_mph': 2.2, 'wind_kph': 3.6, 'wind_degree': 258, 'wind_dir': 'WSW', 'pressure_mb': 1010.0, 'pressure_in': 29.83, 'precip_mm': 0.0, 'precip_in': 0.0, 'humidity': 18, 'cloud': 0, 'feelslike_c': 23.3, 'feelslike_f': 73.9, 'windchill_c': 24.2, 'windchill_f': 75.6, 'heatindex_c': 23.3, 'heatindex_f': 73.9, 'dewpoint_c': -1.4, 'dewpoint_f': 29.5, 'will_it_rain': 0, 'chance_of_rain': 0, 'will_it_snow': 0, 'chance_of_snow': 0, 'vis_km': 10.0, 'vis_miles': 6.0, 'gust_mph': 2.5, 'gust_kph': 4.0, 'uv': 6.0}, {'time_epoch': 1685026800, 'time': '2023-05-25 10:00', 'temp_c': 25.3, 'temp_f': 77.5, 'is_day': 1, 'condition': {'text': 'Sunny', 'icon': '//cdn.weatherapi.com/weather/64x64/day/113.png', 'code': 1000}, 'wind_mph': 1.1, 'wind_kph': 1.8, 'wind_degree': 102, 'wind_dir': 'ESE', 'pressure_mb': 1010.0, 'pressure_in': 29.83, 'precip_mm': 0.0, 'precip_in': 0.0, 'humidity': 18, 'cloud': 0, 'feelslike_c': 24.0, 'feelslike_f': 75.2, 'windchill_c': 25.3, 'windchill_f': 77.5, 'heatindex_c': 24.0, 'heatindex_f': 75.2, 'dewpoint_c': -0.4, 'dewpoint_f': 31.3, 'will_it_rain': 0, 'chance_of_rain': 0, 'will_it_snow': 0, 'chance_of_snow': 0, 'vis_km': 10.0, 'vis_miles': 6.0, 'gust_mph': 1.3, 'gust_kph': 2.2, 'uv': 7.0}, {'time_epoch': 1685030400, 'time': '2023-05-25 11:00', 'temp_c': 29.3, 'temp_f': 84.7, 'is_day': 1, 'condition': {'text': 'Sunny', 'icon': '//cdn.weatherapi.com/weather/64x64/day/113.png', 'code': 1000}, 'wind_mph': 3.8, 'wind_kph': 6.1, 'wind_degree': 118, 'wind_dir': 'ESE', 'pressure_mb': 1010.0, 'pressure_in': 29.83, 'precip_mm': 0.0, 'precip_in': 0.0, 'humidity': 19, 'cloud': 0, 'feelslike_c': 27.1, 'feelslike_f': 80.8, 'windchill_c': 29.3, 'windchill_f': 84.7, 'heatindex_c': 27.1, 'heatindex_f': 80.8, 'dewpoint_c': 3.5, 'dewpoint_f': 38.3, 'will_it_rain': 0, 'chance_of_rain': 0, 'will_it_snow': 0, 'chance_of_snow': 0, 'vis_km': 10.0, 'vis_miles': 6.0, 'gust_mph': 4.5, 'gust_kph': 7.2, 'uv': 7.0}, {'time_epoch': 1685034000, 'time': '2023-05-25 12:00', 'temp_c': 30.4, 'temp_f': 86.7, 'is_day': 1, 'condition': {'text': 'Sunny', 'icon': '//cdn.weatherapi.com/weather/64x64/day/113.png', 'code': 1000}, 'wind_mph': 2.7, 'wind_kph': 4.3, 'wind_degree': 141, 'wind_dir': 'SE', 'pressure_mb': 1010.0, 'pressure_in': 29.82, 'precip_mm': 0.0, 'precip_in': 0.0, 'humidity': 18, 'cloud': 0, 'feelslike_c': 28.2, 'feelslike_f': 82.8, 'windchill_c': 30.4, 'windchill_f': 86.7, 'heatindex_c': 28.2, 'heatindex_f': 82.8, 'dewpoint_c': 3.1, 'dewpoint_f': 37.6, 'will_it_rain': 0, 'chance_of_rain': 0, 'will_it_snow': 0, 'chance_of_snow': 0, 'vis_km': 10.0, 'vis_miles': 6.0, 'gust_mph': 3.1, 'gust_kph': 5.0, 'uv': 8.0}, {'time_epoch': 1685037600, 'time': '2023-05-25 13:00', 'temp_c': 31.5, 'temp_f': 88.7, 'is_day': 1, 'condition': {'text': 'Sunny', 'icon': '//cdn.weatherapi.com/weather/64x64/day/113.png', 'code': 1000}, 'wind_mph': 1.8, 'wind_kph': 2.9, 'wind_degree': 155, 'wind_dir': 'SSE', 'pressure_mb': 1009.0, 'pressure_in': 29.8, 'precip_mm': 0.0, 'precip_in': 0.0, 'humidity': 15, 'cloud': 0, 'feelslike_c': 29.3, 'feelslike_f': 84.7, 'windchill_c': 31.5, 'windchill_f': 88.7, 'heatindex_c': 29.3, 'heatindex_f': 84.7, 'dewpoint_c': 2.0, 'dewpoint_f': 35.6, 'will_it_rain': 0, 'chance_of_rain': 0, 'will_it_snow': 0, 'chance_of_snow': 0, 'vis_km': 10.0, 'vis_miles': 6.0, 'gust_mph': 2.0, 'gust_kph': 3.2, 'uv': 8.0}, {'time_epoch': 1685041200, 'time': '2023-05-25 14:00', 'temp_c': 32.7, 'temp_f': 90.9, 'is_day': 1, 'condition': {'text': 'Sunny', 'icon': '//cdn.weatherapi.com/weather/64x64/day/113.png', 'code': 1000}, 'wind_mph': 2.0, 'wind_kph': 3.2, 'wind_degree': 147, 'wind_dir': 'SSE', 'pressure_mb': 1008.0, 'pressure_in': 29.78, 'precip_mm': 0.0, 'precip_in': 0.0, 'humidity': 13, 'cloud': 0, 'feelslike_c': 30.5, 'feelslike_f': 86.9, 'windchill_c': 32.7, 'windchill_f': 90.9, 'heatindex_c': 30.5, 'heatindex_f': 86.9, 'dewpoint_c': 0.7, 'dewpoint_f': 33.3, 'will_it_rain': 0, 'chance_of_rain': 0, 'will_it_snow': 0, 'chance_of_snow': 0, 'vis_km': 10.0, 'vis_miles': 6.0, 'gust_mph': 2.2, 'gust_kph': 3.6, 'uv': 8.0}, {'time_epoch': 1685044800, 'time': '2023-05-25 15:00', 'temp_c': 33.7, 'temp_f': 92.7, 'is_day': 1, 'condition': {'text': 'Sunny', 'icon': '//cdn.weatherapi.com/weather/64x64/day/113.png', 'code': 1000}, 'wind_mph': 2.7, 'wind_kph': 4.3, 'wind_degree': 158, 'wind_dir': 'SSE', 'pressure_mb': 1007.0, 'pressure_in': 29.75, 'precip_mm': 0.0, 'precip_in': 0.0, 'humidity': 11, 'cloud': 0, 'feelslike_c': 31.6, 'feelslike_f': 88.9, 'windchill_c': 33.7, 'windchill_f': 92.7, 'heatindex_c': 31.6, 'heatindex_f': 88.9, 'dewpoint_c': -0.9, 'dewpoint_f': 30.4, 'will_it_rain': 0, 'chance_of_rain': 0, 'will_it_snow': 0, 'chance_of_snow': 0, 'vis_km': 10.0, 'vis_miles': 6.0, 'gust_mph': 3.1, 'gust_kph': 5.0, 'uv': 8.0}, {'time_epoch': 1685048400, 'time': '2023-05-25 16:00', 'temp_c': 34.4, 'temp_f': 93.9, 'is_day': 1, 'condition': {'text': 'Sunny', 'icon': '//cdn.weatherapi.com/weather/64x64/day/113.png', 'code': 1000}, 'wind_mph': 3.4, 'wind_kph': 5.4, 'wind_degree': 181, 'wind_dir': 'S', 'pressure_mb': 1007.0, 'pressure_in': 29.72, 'precip_mm': 0.0, 'precip_in': 0.0, 'humidity': 10, 'cloud': 0, 'feelslike_c': 32.5, 'feelslike_f': 90.5, 'windchill_c': 34.4, 'windchill_f': 93.9, 'heatindex_c': 32.5, 'heatindex_f': 90.5, 'dewpoint_c': -1.8, 'dewpoint_f': 28.8, 'will_it_rain': 0, 'chance_of_rain': 0, 'will_it_snow': 0, 'chance_of_snow': 0, 'vis_km': 10.0, 'vis_miles': 6.0, 'gust_mph': 3.8, 'gust_kph': 6.1, 'uv': 8.0}, {'time_epoch': 1685052000, 'time': '2023-05-25 17:00', 'temp_c': 35.3, 'temp_f': 95.5, 'is_day': 1, 'condition': {'text': 'Sunny', 'icon': '//cdn.weatherapi.com/weather/64x64/day/113.png', 'code': 1000}, 'wind_mph': 6.5, 'wind_kph': 10.4, 'wind_degree': 211, 'wind_dir': 'SSW', 'pressure_mb': 1006.0, 'pressure_in': 29.7, 'precip_mm': 0.0, 'precip_in': 0.0, 'humidity': 8, 'cloud': 0, 'feelslike_c': 33.5, 'feelslike_f': 92.3, 'windchill_c': 35.3, 'windchill_f': 95.5, 'heatindex_c': 33.5, 'heatindex_f': 92.3, 'dewpoint_c': -3.4, 'dewpoint_f': 25.9, 'will_it_rain': 0, 'chance_of_rain': 0, 'will_it_snow': 0, 'chance_of_snow': 0, 'vis_km': 10.0, 'vis_miles': 6.0, 'gust_mph': 7.4, 'gust_kph': 11.9, 'uv': 9.0}, {'time_epoch': 1685055600, 'time': '2023-05-25 18:00', 'temp_c': 33.1, 'temp_f': 91.6, 'is_day': 1, 'condition': {'text': 'Sunny', 'icon': '//cdn.weatherapi.com/weather/64x64/day/113.png', 'code': 1000}, 'wind_mph': 12.1, 'wind_kph': 19.4, 'wind_degree': 222, 'wind_dir': 'SW', 'pressure_mb': 1005.0, 'pressure_in': 29.68, 'precip_mm': 0.0, 'precip_in': 0.0, 'humidity': 8, 'cloud': 0, 'feelslike_c': 31.0, 'feelslike_f': 87.8, 'windchill_c': 33.1, 'windchill_f': 91.6, 'heatindex_c': 31.0, 'heatindex_f': 87.8, 'dewpoint_c': -6.3, 'dewpoint_f': 20.7, 'will_it_rain': 0, 'chance_of_rain': 0, 'will_it_snow': 0, 'chance_of_snow': 0, 'vis_km': 10.0, 'vis_miles': 6.0, 'gust_mph': 13.9, 'gust_kph': 22.3, 'uv': 8.0}, {'time_epoch': 1685059200, 'time': '2023-05-25 19:00', 'temp_c': 32.4, 'temp_f': 90.3, 'is_day': 1, 'condition': {'text': 'Sunny', 'icon': '//cdn.weatherapi.com/weather/64x64/day/113.png', 'code': 1000}, 'wind_mph': 12.8, 'wind_kph': 20.5, 'wind_degree': 223, 'wind_dir': 'SW', 'pressure_mb': 1005.0, 'pressure_in': 29.67, 'precip_mm': 0.0, 'precip_in': 0.0, 'humidity': 8, 'cloud': 6, 'feelslike_c': 30.2, 'feelslike_f': 86.4, 'windchill_c': 32.4, 'windchill_f': 90.3, 'heatindex_c': 30.2, 'heatindex_f': 86.4, 'dewpoint_c': -6.6, 'dewpoint_f': 20.1, 'will_it_rain': 0, 'chance_of_rain': 0, 'will_it_snow': 0, 'chance_of_snow': 0, 'vis_km': 10.0, 'vis_miles': 6.0, 'gust_mph': 14.8, 'gust_kph': 23.8, 'uv': 8.0}, {'time_epoch': 1685062800, 'time': '2023-05-25 20:00', 'temp_c': 31.9, 'temp_f': 89.4, 'is_day': 1, 'condition': {'text': 'Sunny', 'icon': '//cdn.weatherapi.com/weather/64x64/day/113.png', 'code': 1000}, 'wind_mph': 8.5, 'wind_kph': 13.7, 'wind_degree': 226, 'wind_dir': 'SW', 'pressure_mb': 1005.0, 'pressure_in': 29.67, 'precip_mm': 0.0, 'precip_in': 0.0, 'humidity': 8, 'cloud': 0, 'feelslike_c': 29.7, 'feelslike_f': 85.5, 'windchill_c': 31.9, 'windchill_f': 89.4, 'heatindex_c': 29.7, 'heatindex_f': 85.5, 'dewpoint_c': -6.8, 'dewpoint_f': 19.8, 'will_it_rain': 0, 'chance_of_rain': 0, 'will_it_snow': 0, 'chance_of_snow': 0, 'vis_km': 10.0, 'vis_miles': 6.0, 'gust_mph': 9.8, 'gust_kph': 15.8, 'uv': 8.0}, {'time_epoch': 1685066400, 'time': '2023-05-25 21:00', 'temp_c': 31.0, 'temp_f': 87.8, 'is_day': 0, 'condition': {'text': 'Clear', 'icon': '//cdn.weatherapi.com/weather/64x64/night/113.png', 'code': 1000}, 'wind_mph': 4.3, 'wind_kph': 6.8, 'wind_degree': 235, 'wind_dir': 'SW', 'pressure_mb': 1005.0, 'pressure_in': 29.67, 'precip_mm': 0.0, 'precip_in': 0.0, 'humidity': 8, 'cloud': 0, 'feelslike_c': 28.8, 'feelslike_f': 83.8, 'windchill_c': 31.0, 'windchill_f': 87.8, 'heatindex_c': 28.8, 'heatindex_f': 83.8, 'dewpoint_c': -6.5, 'dewpoint_f': 20.3, 'will_it_rain': 0, 'chance_of_rain': 0, 'will_it_snow': 0, 'chance_of_snow': 0, 'vis_km': 10.0, 'vis_miles': 6.0, 'gust_mph': 5.4, 'gust_kph': 8.6, 'uv': 1.0}, {'time_epoch': 1685070000, 'time': '2023-05-25 22:00', 'temp_c': 30.2, 'temp_f': 86.4, 'is_day': 0, 'condition': {'text': 'Clear', 'icon': '//cdn.weatherapi.com/weather/64x64/night/113.png', 'code': 1000}, 'wind_mph': 1.1, 'wind_kph': 1.8, 'wind_degree': 199, 'wind_dir': 'SSW', 'pressure_mb': 1005.0, 'pressure_in': 29.67, 'precip_mm': 0.0, 'precip_in': 0.0, 'humidity': 9, 'cloud': 0, 'feelslike_c': 28.0, 'feelslike_f': 82.4, 'windchill_c': 30.2, 'windchill_f': 86.4, 'heatindex_c': 28.0, 'heatindex_f': 82.4, 'dewpoint_c': -6.2, 'dewpoint_f': 20.8, 'will_it_rain': 0, 'chance_of_rain': 0, 'will_it_snow': 0, 'chance_of_snow': 0, 'vis_km': 10.0, 'vis_miles': 6.0, 'gust_mph': 1.8, 'gust_kph': 2.9, 'uv': 1.0}, {'time_epoch': 1685073600, 'time': '2023-05-25 23:00', 'temp_c': 29.8, 'temp_f': 85.6, 'is_day': 0, 'condition': {'text': 'Clear', 'icon': '//cdn.weatherapi.com/weather/64x64/night/113.png', 'code': 1000}, 'wind_mph': 1.8, 'wind_kph': 2.9, 'wind_degree': 163, 'wind_dir': 'SSE', 'pressure_mb': 1006.0, 'pressure_in': 29.7, 'precip_mm': 0.0, 'precip_in': 0.0, 'humidity': 9, 'cloud': 0, 'feelslike_c': 27.6, 'feelslike_f': 81.7, 'windchill_c': 29.8, 'windchill_f': 85.6, 'heatindex_c': 27.6, 'heatindex_f': 81.7, 'dewpoint_c': -6.1, 'dewpoint_f': 21.0, 'will_it_rain': 0, 'chance_of_rain': 0, 'will_it_snow': 0, 'chance_of_snow': 0, 'vis_km': 10.0, 'vis_miles': 6.0, 'gust_mph': 2.9, 'gust_kph': 4.7, 'uv': 1.0}]}, {'date': '2023-05-26', 'date_epoch': 1685059200, 'day': {'maxtemp_c': 35.1, 'maxtemp_f': 95.2, 'mintemp_c': 21.4, 'mintemp_f': 70.5, 'avgtemp_c': 28.2, 'avgtemp_f': 82.8, 'maxwind_mph': 13.9, 'maxwind_kph': 22.3, 'totalprecip_mm': 0.0, 'totalprecip_in': 0.0, 'totalsnow_cm': 0.0, 'avgvis_km': 10.0, 'avgvis_miles': 6.0, 'avghumidity': 25.0, 'daily_will_it_rain': 0, 'daily_chance_of_rain': 0, 'daily_will_it_snow': 0, 'daily_chance_of_snow': 0, 'condition': {'text': 'Sunny', 'icon': '//cdn.weatherapi.com/weather/64x64/day/113.png', 'code': 1000}, 'uv': 7.0}, 'astro': {'sunrise': '06:03 AM', 'sunset': '08:03 PM', 'moonrise': '12:03 PM', 'moonset': '01:19 AM', 'moon_phase': 'Waxing Crescent', 'moon_illumination': '35', 'is_moon_up': 1, 'is_sun_up': 1}, 'hour': [{'time_epoch': 1685077200, 'time': '2023-05-26 00:00', 'temp_c': 29.1, 'temp_f': 84.4, 'is_day': 0, 'condition': {'text': 'Clear', 'icon': '//cdn.weatherapi.com/weather/64x64/night/113.png', 'code': 1000}, 'wind_mph': 4.7, 'wind_kph': 7.6, 'wind_degree': 224, 'wind_dir': 'SW', 'pressure_mb': 1006.0, 'pressure_in': 29.72, 'precip_mm': 0.0, 'precip_in': 0.0, 'humidity': 9, 'cloud': 0, 'feelslike_c': 27.0, 'feelslike_f': 80.6, 'windchill_c': 29.1, 'windchill_f': 84.4, 'heatindex_c': 27.0, 'heatindex_f': 80.6, 'dewpoint_c': -6.9, 'dewpoint_f': 19.6, 'will_it_rain': 0, 'chance_of_rain': 0, 'will_it_snow': 0, 'chance_of_snow': 0, 'vis_km': 10.0, 'vis_miles': 6.0, 'gust_mph': 7.8, 'gust_kph': 12.6, 'uv': 1.0}, {'time_epoch': 1685080800, 'time': '2023-05-26 01:00', 'temp_c': 27.8, 'temp_f': 82.0, 'is_day': 0, 'condition': {'text': 'Clear', 'icon': '//cdn.weatherapi.com/weather/64x64/night/113.png', 'code': 1000}, 'wind_mph': 6.9, 'wind_kph': 11.2, 'wind_degree': 241, 'wind_dir': 'WSW', 'pressure_mb': 1007.0, 'pressure_in': 29.75, 'precip_mm': 0.0, 'precip_in': 0.0, 'humidity': 10, 'cloud': 7, 'feelslike_c': 25.9, 'feelslike_f': 78.6, 'windchill_c': 27.8, 'windchill_f': 82.0, 'heatindex_c': 25.9, 'heatindex_f': 78.6, 'dewpoint_c': -6.4, 'dewpoint_f': 20.5, 'will_it_rain': 0, 'chance_of_rain': 0, 'will_it_snow': 0, 'chance_of_snow': 0, 'vis_km': 10.0, 'vis_miles': 6.0, 'gust_mph': 11.4, 'gust_kph': 18.4, 'uv': 1.0}, {'time_epoch': 1685084400, 'time': '2023-05-26 02:00', 'temp_c': 26.4, 'temp_f': 79.5, 'is_day': 0, 'condition': {'text': 'Clear', 'icon': '//cdn.weatherapi.com/weather/64x64/night/113.png', 'code': 1000}, 'wind_mph': 3.8, 'wind_kph': 6.1, 'wind_degree': 240, 'wind_dir': 'WSW', 'pressure_mb': 1008.0, 'pressure_in': 29.77, 'precip_mm': 0.0, 'precip_in': 0.0, 'humidity': 13, 'cloud': 0, 'feelslike_c': 24.8, 'feelslike_f': 76.6, 'windchill_c': 26.4, 'windchill_f': 79.5, 'heatindex_c': 24.8, 'heatindex_f': 76.6, 'dewpoint_c': -3.9, 'dewpoint_f': 25.0, 'will_it_rain': 0, 'chance_of_rain': 0, 'will_it_snow': 0, 'chance_of_snow': 0, 'vis_km': 10.0, 'vis_miles': 6.0, 'gust_mph': 6.3, 'gust_kph': 10.1, 'uv': 1.0}, {'time_epoch': 1685088000, 'time': '2023-05-26 03:00', 'temp_c': 24.9, 'temp_f': 76.8, 'is_day': 0, 'condition': {'text': 'Clear', 'icon': '//cdn.weatherapi.com/weather/64x64/night/113.png', 'code': 1000}, 'wind_mph': 2.5, 'wind_kph': 4.0, 'wind_degree': 96, 'wind_dir': 'E', 'pressure_mb': 1009.0, 'pressure_in': 29.78, 'precip_mm': 0.0, 'precip_in': 0.0, 'humidity': 20, 'cloud': 0, 'feelslike_c': 23.8, 'feelslike_f': 74.8, 'windchill_c': 24.9, 'windchill_f': 76.8, 'heatindex_c': 23.8, 'heatindex_f': 74.8, 'dewpoint_c': 0.6, 'dewpoint_f': 33.1, 'will_it_rain': 0, 'chance_of_rain': 0, 'will_it_snow': 0, 'chance_of_snow': 0, 'vis_km': 10.0, 'vis_miles': 6.0, 'gust_mph': 3.8, 'gust_kph': 6.1, 'uv': 1.0}, {'time_epoch': 1685091600, 'time': '2023-05-26 04:00', 'temp_c': 24.2, 'temp_f': 75.6, 'is_day': 0, 'condition': {'text': 'Clear', 'icon': '//cdn.weatherapi.com/weather/64x64/night/113.png', 'code': 1000}, 'wind_mph': 4.0, 'wind_kph': 6.5, 'wind_degree': 89, 'wind_dir': 'E', 'pressure_mb': 1009.0, 'pressure_in': 29.8, 'precip_mm': 0.0, 'precip_in': 0.0, 'humidity': 26, 'cloud': 0, 'feelslike_c': 23.9, 'feelslike_f': 75.0, 'windchill_c': 24.2, 'windchill_f': 75.6, 'heatindex_c': 23.9, 'heatindex_f': 75.0, 'dewpoint_c': 3.7, 'dewpoint_f': 38.7, 'will_it_rain': 0, 'chance_of_rain': 0, 'will_it_snow': 0, 'chance_of_snow': 0, 'vis_km': 10.0, 'vis_miles': 6.0, 'gust_mph': 6.0, 'gust_kph': 9.7, 'uv': 1.0}, {'time_epoch': 1685095200, 'time': '2023-05-26 05:00', 'temp_c': 24.0, 'temp_f': 75.2, 'is_day': 0, 'condition': {'text': 'Clear', 'icon': '//cdn.weatherapi.com/weather/64x64/night/113.png', 'code': 1000}, 'wind_mph': 3.1, 'wind_kph': 5.0, 'wind_degree': 152, 'wind_dir': 'SSE', 'pressure_mb': 1009.0, 'pressure_in': 29.8, 'precip_mm': 0.0, 'precip_in': 0.0, 'humidity': 26, 'cloud': 0, 'feelslike_c': 23.8, 'feelslike_f': 74.8, 'windchill_c': 24.0, 'windchill_f': 75.2, 'heatindex_c': 23.8, 'heatindex_f': 74.8, 'dewpoint_c': 3.5, 'dewpoint_f': 38.3, 'will_it_rain': 0, 'chance_of_rain': 0, 'will_it_snow': 0, 'chance_of_snow': 0, 'vis_km': 10.0, 'vis_miles': 6.0, 'gust_mph': 4.9, 'gust_kph': 7.9, 'uv': 1.0}, {'time_epoch': 1685098800, 'time': '2023-05-26 06:00', 'temp_c': 23.6, 'temp_f': 74.5, 'is_day': 0, 'condition': {'text': 'Clear', 'icon': '//cdn.weatherapi.com/weather/64x64/night/113.png', 'code': 1000}, 'wind_mph': 2.5, 'wind_kph': 4.0, 'wind_degree': 212, 'wind_dir': 'SSW', 'pressure_mb': 1009.0, 'pressure_in': 29.8, 'precip_mm': 0.0, 'precip_in': 0.0, 'humidity': 24, 'cloud': 0, 'feelslike_c': 23.3, 'feelslike_f': 73.9, 'windchill_c': 23.6, 'windchill_f': 74.5, 'heatindex_c': 23.3, 'heatindex_f': 73.9, 'dewpoint_c': 1.7, 'dewpoint_f': 35.1, 'will_it_rain': 0, 'chance_of_rain': 0, 'will_it_snow': 0, 'chance_of_snow': 0, 'vis_km': 10.0, 'vis_miles': 6.0, 'gust_mph': 4.0, 'gust_kph': 6.5, 'uv': 1.0}, {'time_epoch': 1685102400, 'time': '2023-05-26 07:00', 'temp_c': 22.6, 'temp_f': 72.7, 'is_day': 1, 'condition': {'text': 'Sunny', 'icon': '//cdn.weatherapi.com/weather/64x64/day/113.png', 'code': 1000}, 'wind_mph': 2.0, 'wind_kph': 3.2, 'wind_degree': 224, 'wind_dir': 'SW', 'pressure_mb': 1010.0, 'pressure_in': 29.83, 'precip_mm': 0.0, 'precip_in': 0.0, 'humidity': 23, 'cloud': 0, 'feelslike_c': 22.7, 'feelslike_f': 72.9, 'windchill_c': 22.6, 'windchill_f': 72.7, 'heatindex_c': 22.7, 'heatindex_f': 72.9, 'dewpoint_c': 0.2, 'dewpoint_f': 32.4, 'will_it_rain': 0, 'chance_of_rain': 0, 'will_it_snow': 0, 'chance_of_snow': 0, 'vis_km': 10.0, 'vis_miles': 6.0, 'gust_mph': 3.6, 'gust_kph': 5.8, 'uv': 6.0}, {'time_epoch': 1685106000, 'time': '2023-05-26 08:00', 'temp_c': 23.2, 'temp_f': 73.8, 'is_day': 1, 'condition': {'text': 'Sunny', 'icon': '//cdn.weatherapi.com/weather/64x64/day/113.png', 'code': 1000}, 'wind_mph': 1.8, 'wind_kph': 2.9, 'wind_degree': 256, 'wind_dir': 'WSW', 'pressure_mb': 1011.0, 'pressure_in': 29.85, 'precip_mm': 0.0, 'precip_in': 0.0, 'humidity': 22, 'cloud': 0, 'feelslike_c': 22.9, 'feelslike_f': 73.2, 'windchill_c': 23.2, 'windchill_f': 73.8, 'heatindex_c': 22.9, 'heatindex_f': 73.2, 'dewpoint_c': 0.4, 'dewpoint_f': 32.7, 'will_it_rain': 0, 'chance_of_rain': 0, 'will_it_snow': 0, 'chance_of_snow': 0, 'vis_km': 10.0, 'vis_miles': 6.0, 'gust_mph': 2.5, 'gust_kph': 4.0, 'uv': 6.0}, {'time_epoch': 1685109600, 'time': '2023-05-26 09:00', 'temp_c': 24.2, 'temp_f': 75.6, 'is_day': 1, 'condition': {'text': 'Sunny', 'icon': '//cdn.weatherapi.com/weather/64x64/day/113.png', 'code': 1000}, 'wind_mph': 2.0, 'wind_kph': 3.2, 'wind_degree': 347, 'wind_dir': 'NNW', 'pressure_mb': 1011.0, 'pressure_in': 29.86, 'precip_mm': 0.0, 'precip_in': 0.0, 'humidity': 20, 'cloud': 1, 'feelslike_c': 23.3, 'feelslike_f': 73.9, 'windchill_c': 24.2, 'windchill_f': 75.6, 'heatindex_c': 23.3, 'heatindex_f': 73.9, 'dewpoint_c': 0.0, 'dewpoint_f': 32.0, 'will_it_rain': 0, 'chance_of_rain': 0, 'will_it_snow': 0, 'chance_of_snow': 0, 'vis_km': 10.0, 'vis_miles': 6.0, 'gust_mph': 2.2, 'gust_kph': 3.6, 'uv': 6.0}, {'time_epoch': 1685113200, 'time': '2023-05-26 10:00', 'temp_c': 25.4, 'temp_f': 77.7, 'is_day': 1, 'condition': {'text': 'Sunny', 'icon': '//cdn.weatherapi.com/weather/64x64/day/113.png', 'code': 1000}, 'wind_mph': 2.2, 'wind_kph': 3.6, 'wind_degree': 34, 'wind_dir': 'NE', 'pressure_mb': 1011.0, 'pressure_in': 29.87, 'precip_mm': 0.0, 'precip_in': 0.0, 'humidity': 19, 'cloud': 2, 'feelslike_c': 24.1, 'feelslike_f': 75.4, 'windchill_c': 25.4, 'windchill_f': 77.7, 'heatindex_c': 24.1, 'heatindex_f': 75.4, 'dewpoint_c': 0.2, 'dewpoint_f': 32.4, 'will_it_rain': 0, 'chance_of_rain': 0, 'will_it_snow': 0, 'chance_of_snow': 0, 'vis_km': 10.0, 'vis_miles': 6.0, 'gust_mph': 2.5, 'gust_kph': 4.0, 'uv': 7.0}, {'time_epoch': 1685116800, 'time': '2023-05-26 11:00', 'temp_c': 29.4, 'temp_f': 84.9, 'is_day': 1, 'condition': {'text': 'Sunny', 'icon': '//cdn.weatherapi.com/weather/64x64/day/113.png', 'code': 1000}, 'wind_mph': 3.4, 'wind_kph': 5.4, 'wind_degree': 70, 'wind_dir': 'ENE', 'pressure_mb': 1011.0, 'pressure_in': 29.86, 'precip_mm': 0.0, 'precip_in': 0.0, 'humidity': 18, 'cloud': 3, 'feelslike_c': 27.2, 'feelslike_f': 81.0, 'windchill_c': 29.4, 'windchill_f': 84.9, 'heatindex_c': 27.2, 'heatindex_f': 81.0, 'dewpoint_c': 2.4, 'dewpoint_f': 36.3, 'will_it_rain': 0, 'chance_of_rain': 0, 'will_it_snow': 0, 'chance_of_snow': 0, 'vis_km': 10.0, 'vis_miles': 6.0, 'gust_mph': 3.8, 'gust_kph': 6.1, 'uv': 7.0}, {'time_epoch': 1685120400, 'time': '2023-05-26 12:00', 'temp_c': 30.5, 'temp_f': 86.9, 'is_day': 1, 'condition': {'text': 'Sunny', 'icon': '//cdn.weatherapi.com/weather/64x64/day/113.png', 'code': 1000}, 'wind_mph': 4.0, 'wind_kph': 6.5, 'wind_degree': 92, 'wind_dir': 'E', 'pressure_mb': 1011.0, 'pressure_in': 29.85, 'precip_mm': 0.0, 'precip_in': 0.0, 'humidity': 17, 'cloud': 5, 'feelslike_c': 28.3, 'feelslike_f': 82.9, 'windchill_c': 30.5, 'windchill_f': 86.9, 'heatindex_c': 28.3, 'heatindex_f': 82.9, 'dewpoint_c': 2.5, 'dewpoint_f': 36.5, 'will_it_rain': 0, 'chance_of_rain': 0, 'will_it_snow': 0, 'chance_of_snow': 0, 'vis_km': 10.0, 'vis_miles': 6.0, 'gust_mph': 4.7, 'gust_kph': 7.6, 'uv': 8.0}, {'time_epoch': 1685124000, 'time': '2023-05-26 13:00', 'temp_c': 31.5, 'temp_f': 88.7, 'is_day': 1, 'condition': {'text': 'Sunny', 'icon': '//cdn.weatherapi.com/weather/64x64/day/113.png', 'code': 1000}, 'wind_mph': 3.8, 'wind_kph': 6.1, 'wind_degree': 102, 'wind_dir': 'ESE', 'pressure_mb': 1010.0, 'pressure_in': 29.83, 'precip_mm': 0.0, 'precip_in': 0.0, 'humidity': 15, 'cloud': 5, 'feelslike_c': 29.3, 'feelslike_f': 84.7, 'windchill_c': 31.5, 'windchill_f': 88.7, 'heatindex_c': 29.3, 'heatindex_f': 84.7, 'dewpoint_c': 2.0, 'dewpoint_f': 35.6, 'will_it_rain': 0, 'chance_of_rain': 0, 'will_it_snow': 0, 'chance_of_snow': 0, 'vis_km': 10.0, 'vis_miles': 6.0, 'gust_mph': 4.5, 'gust_kph': 7.2, 'uv': 8.0}, {'time_epoch': 1685127600, 'time': '2023-05-26 14:00', 'temp_c': 32.5, 'temp_f': 90.5, 'is_day': 1, 'condition': {'text': 'Sunny', 'icon': '//cdn.weatherapi.com/weather/64x64/day/113.png', 'code': 1000}, 'wind_mph': 3.8, 'wind_kph': 6.1, 'wind_degree': 126, 'wind_dir': 'SE', 'pressure_mb': 1010.0, 'pressure_in': 29.82, 'precip_mm': 0.0, 'precip_in': 0.0, 'humidity': 15, 'cloud': 8, 'feelslike_c': 30.3, 'feelslike_f': 86.5, 'windchill_c': 32.5, 'windchill_f': 90.5, 'heatindex_c': 30.3, 'heatindex_f': 86.5, 'dewpoint_c': 2.1, 'dewpoint_f': 35.8, 'will_it_rain': 0, 'chance_of_rain': 0, 'will_it_snow': 0, 'chance_of_snow': 0, 'vis_km': 10.0, 'vis_miles': 6.0, 'gust_mph': 4.5, 'gust_kph': 7.2, 'uv': 8.0}, {'time_epoch': 1685131200, 'time': '2023-05-26 15:00', 'temp_c': 33.5, 'temp_f': 92.3, 'is_day': 1, 'condition': {'text': 'Sunny', 'icon': '//cdn.weatherapi.com/weather/64x64/day/113.png', 'code': 1000}, 'wind_mph': 4.7, 'wind_kph': 7.6, 'wind_degree': 134, 'wind_dir': 'SE', 'pressure_mb': 1009.0, 'pressure_in': 29.78, 'precip_mm': 0.0, 'precip_in': 0.0, 'humidity': 14, 'cloud': 6, 'feelslike_c': 31.4, 'feelslike_f': 88.5, 'windchill_c': 33.5, 'windchill_f': 92.3, 'heatindex_c': 31.4, 'heatindex_f': 88.5, 'dewpoint_c': 2.4, 'dewpoint_f': 36.3, 'will_it_rain': 0, 'chance_of_rain': 0, 'will_it_snow': 0, 'chance_of_snow': 0, 'vis_km': 10.0, 'vis_miles': 6.0, 'gust_mph': 5.4, 'gust_kph': 8.6, 'uv': 8.0}, {'time_epoch': 1685134800, 'time': '2023-05-26 16:00', 'temp_c': 34.5, 'temp_f': 94.1, 'is_day': 1, 'condition': {'text': 'Sunny', 'icon': '//cdn.weatherapi.com/weather/64x64/day/113.png', 'code': 1000}, 'wind_mph': 4.9, 'wind_kph': 7.9, 'wind_degree': 139, 'wind_dir': 'SE', 'pressure_mb': 1008.0, 'pressure_in': 29.75, 'precip_mm': 0.0, 'precip_in': 0.0, 'humidity': 12, 'cloud': 6, 'feelslike_c': 32.6, 'feelslike_f': 90.7, 'windchill_c': 34.5, 'windchill_f': 94.1, 'heatindex_c': 32.6, 'heatindex_f': 90.7, 'dewpoint_c': 1.4, 'dewpoint_f': 34.5, 'will_it_rain': 0, 'chance_of_rain': 0, 'will_it_snow': 0, 'chance_of_snow': 0, 'vis_km': 10.0, 'vis_miles': 6.0, 'gust_mph': 5.6, 'gust_kph': 9.0, 'uv': 8.0}, {'time_epoch': 1685138400, 'time': '2023-05-26 17:00', 'temp_c': 35.4, 'temp_f': 95.7, 'is_day': 1, 'condition': {'text': 'Sunny', 'icon': '//cdn.weatherapi.com/weather/64x64/day/113.png', 'code': 1000}, 'wind_mph': 6.0, 'wind_kph': 9.7, 'wind_degree': 171, 'wind_dir': 'S', 'pressure_mb': 1007.0, 'pressure_in': 29.73, 'precip_mm': 0.0, 'precip_in': 0.0, 'humidity': 11, 'cloud': 6, 'feelslike_c': 33.7, 'feelslike_f': 92.7, 'windchill_c': 35.4, 'windchill_f': 95.7, 'heatindex_c': 33.7, 'heatindex_f': 92.7, 'dewpoint_c': 0.3, 'dewpoint_f': 32.5, 'will_it_rain': 0, 'chance_of_rain': 0, 'will_it_snow': 0, 'chance_of_snow': 0, 'vis_km': 10.0, 'vis_miles': 6.0, 'gust_mph': 6.9, 'gust_kph': 11.2, 'uv': 9.0}, {'time_epoch': 1685142000, 'time': '2023-05-26 18:00', 'temp_c': 33.7, 'temp_f': 92.7, 'is_day': 1, 'condition': {'text': 'Sunny', 'icon': '//cdn.weatherapi.com/weather/64x64/day/113.png', 'code': 1000}, 'wind_mph': 9.8, 'wind_kph': 15.8, 'wind_degree': 209, 'wind_dir': 'SSW', 'pressure_mb': 1006.0, 'pressure_in': 29.71, 'precip_mm': 0.0, 'precip_in': 0.0, 'humidity': 9, 'cloud': 4, 'feelslike_c': 31.6, 'feelslike_f': 88.9, 'windchill_c': 33.7, 'windchill_f': 92.7, 'heatindex_c': 31.6, 'heatindex_f': 88.9, 'dewpoint_c': -4.2, 'dewpoint_f': 24.4, 'will_it_rain': 0, 'chance_of_rain': 0, 'will_it_snow': 0, 'chance_of_snow': 0, 'vis_km': 10.0, 'vis_miles': 6.0, 'gust_mph': 11.4, 'gust_kph': 18.4, 'uv': 8.0}, {'time_epoch': 1685145600, 'time': '2023-05-26 19:00', 'temp_c': 33.0, 'temp_f': 91.4, 'is_day': 1, 'condition': {'text': 'Sunny', 'icon': '//cdn.weatherapi.com/weather/64x64/day/113.png', 'code': 1000}, 'wind_mph': 11.0, 'wind_kph': 17.6, 'wind_degree': 221, 'wind_dir': 'SW', 'pressure_mb': 1006.0, 'pressure_in': 29.7, 'precip_mm': 0.0, 'precip_in': 0.0, 'humidity': 8, 'cloud': 6, 'feelslike_c': 30.9, 'feelslike_f': 87.6, 'windchill_c': 33.0, 'windchill_f': 91.4, 'heatindex_c': 30.9, 'heatindex_f': 87.6, 'dewpoint_c': -5.9, 'dewpoint_f': 21.4, 'will_it_rain': 0, 'chance_of_rain': 0, 'will_it_snow': 0, 'chance_of_snow': 0, 'vis_km': 10.0, 'vis_miles': 6.0, 'gust_mph': 12.5, 'gust_kph': 20.2, 'uv': 8.0}, {'time_epoch': 1685149200, 'time': '2023-05-26 20:00', 'temp_c': 32.4, 'temp_f': 90.3, 'is_day': 1, 'condition': {'text': 'Sunny', 'icon': '//cdn.weatherapi.com/weather/64x64/day/113.png', 'code': 1000}, 'wind_mph': 5.4, 'wind_kph': 8.6, 'wind_degree': 195, 'wind_dir': 'SSW', 'pressure_mb': 1005.0, 'pressure_in': 29.68, 'precip_mm': 0.0, 'precip_in': 0.0, 'humidity': 9, 'cloud': 12, 'feelslike_c': 30.2, 'feelslike_f': 86.4, 'windchill_c': 32.4, 'windchill_f': 90.3, 'heatindex_c': 30.2, 'heatindex_f': 86.4, 'dewpoint_c': -5.0, 'dewpoint_f': 23.0, 'will_it_rain': 0, 'chance_of_rain': 0, 'will_it_snow': 0, 'chance_of_snow': 0, 'vis_km': 10.0, 'vis_miles': 6.0, 'gust_mph': 6.3, 'gust_kph': 10.1, 'uv': 8.0}, {'time_epoch': 1685152800, 'time': '2023-05-26 21:00', 'temp_c': 31.6, 'temp_f': 88.9, 'is_day': 0, 'condition': {'text': 'Clear', 'icon': '//cdn.weatherapi.com/weather/64x64/night/113.png', 'code': 1000}, 'wind_mph': 4.0, 'wind_kph': 6.5, 'wind_degree': 149, 'wind_dir': 'SSE', 'pressure_mb': 1005.0, 'pressure_in': 29.68, 'precip_mm': 0.0, 'precip_in': 0.0, 'humidity': 10, 'cloud': 11, 'feelslike_c': 29.4, 'feelslike_f': 84.9, 'windchill_c': 31.6, 'windchill_f': 88.9, 'heatindex_c': 29.4, 'heatindex_f': 84.9, 'dewpoint_c': -3.5, 'dewpoint_f': 25.7, 'will_it_rain': 0, 'chance_of_rain': 0, 'will_it_snow': 0, 'chance_of_snow': 0, 'vis_km': 10.0, 'vis_miles': 6.0, 'gust_mph': 4.9, 'gust_kph': 7.9, 'uv': 1.0}, {'time_epoch': 1685156400, 'time': '2023-05-26 22:00', 'temp_c': 31.0, 'temp_f': 87.8, 'is_day': 0, 'condition': {'text': 'Clear', 'icon': '//cdn.weatherapi.com/weather/64x64/night/113.png', 'code': 1000}, 'wind_mph': 4.3, 'wind_kph': 6.8, 'wind_degree': 126, 'wind_dir': 'SE', 'pressure_mb': 1005.0, 'pressure_in': 29.68, 'precip_mm': 0.0, 'precip_in': 0.0, 'humidity': 11, 'cloud': 7, 'feelslike_c': 28.8, 'feelslike_f': 83.8, 'windchill_c': 31.0, 'windchill_f': 87.8, 'heatindex_c': 28.8, 'heatindex_f': 83.8, 'dewpoint_c': -3.1, 'dewpoint_f': 26.4, 'will_it_rain': 0, 'chance_of_rain': 0, 'will_it_snow': 0, 'chance_of_snow': 0, 'vis_km': 10.0, 'vis_miles': 6.0, 'gust_mph': 5.8, 'gust_kph': 9.4, 'uv': 1.0}, {'time_epoch': 1685160000, 'time': '2023-05-26 23:00', 'temp_c': 29.7, 'temp_f': 85.5, 'is_day': 0, 'condition': {'text': 'Clear', 'icon': '//cdn.weatherapi.com/weather/64x64/night/113.png', 'code': 1000}, 'wind_mph': 9.8, 'wind_kph': 15.8, 'wind_degree': 107, 'wind_dir': 'ESE', 'pressure_mb': 1006.0, 'pressure_in': 29.7, 'precip_mm': 0.0, 'precip_in': 0.0, 'humidity': 16, 'cloud': 15, 'feelslike_c': 27.5, 'feelslike_f': 81.5, 'windchill_c': 29.7, 'windchill_f': 85.5, 'heatindex_c': 27.5, 'heatindex_f': 81.5, 'dewpoint_c': 0.8, 'dewpoint_f': 33.4, 'will_it_rain': 0, 'chance_of_rain': 0, 'will_it_snow': 0, 'chance_of_snow': 0, 'vis_km': 10.0, 'vis_miles': 6.0, 'gust_mph': 13.6, 'gust_kph': 22.0, 'uv': 1.0}]}]}}\n"
     ]
    }
   ],
   "source": [
    "#Mostrando resultado\n",
    "print(response)"
   ]
  },
  {
   "cell_type": "code",
   "execution_count": 6,
   "id": "24df7987",
   "metadata": {},
   "outputs": [],
   "source": [
    "tf = open(\"data.txt\", \"w\")\n",
    "json.dump(response, tf)\n",
    "tf.close()"
   ]
  },
  {
   "cell_type": "code",
   "execution_count": 7,
   "id": "3b16157d",
   "metadata": {},
   "outputs": [
    {
     "data": {
      "text/plain": [
       "dict_keys(['location', 'current', 'forecast'])"
      ]
     },
     "execution_count": 7,
     "metadata": {},
     "output_type": "execute_result"
    }
   ],
   "source": [
    "response.keys()"
   ]
  },
  {
   "attachments": {},
   "cell_type": "markdown",
   "id": "e56da372",
   "metadata": {},
   "source": [
    "Armado del pronostico del clima Diario\n"
   ]
  },
  {
   "cell_type": "code",
   "execution_count": 8,
   "id": "6c40d33d",
   "metadata": {},
   "outputs": [
    {
     "data": {
      "text/plain": [
       "{'maxtemp_c': 23.2,\n",
       " 'maxtemp_f': 73.8,\n",
       " 'mintemp_c': 5.6,\n",
       " 'mintemp_f': 42.1,\n",
       " 'avgtemp_c': 14.3,\n",
       " 'avgtemp_f': 57.7,\n",
       " 'maxwind_mph': 5.1,\n",
       " 'maxwind_kph': 8.3,\n",
       " 'totalprecip_mm': 0.0,\n",
       " 'totalprecip_in': 0.0,\n",
       " 'totalsnow_cm': 0.0,\n",
       " 'avgvis_km': 10.0,\n",
       " 'avgvis_miles': 6.0,\n",
       " 'avghumidity': 37.0,\n",
       " 'daily_will_it_rain': 0,\n",
       " 'daily_chance_of_rain': 0,\n",
       " 'daily_will_it_snow': 0,\n",
       " 'daily_chance_of_snow': 0,\n",
       " 'condition': {'text': 'Partly cloudy',\n",
       "  'icon': '//cdn.weatherapi.com/weather/64x64/day/116.png',\n",
       "  'code': 1003},\n",
       " 'uv': 4.0}"
      ]
     },
     "execution_count": 8,
     "metadata": {},
     "output_type": "execute_result"
    }
   ],
   "source": [
    "response['forecast']['forecastday'][0]['day']"
   ]
  },
  {
   "cell_type": "code",
   "execution_count": 9,
   "metadata": {},
   "outputs": [],
   "source": [
    "#Temperatura Maxima y minima\n",
    "date = response['forecast']['forecastday'][0]['date']\n",
    "minTemp = response['forecast']['forecastday'][0]['day']['mintemp_c']\n",
    "maxTemp = response['forecast']['forecastday'][0]['day']['maxtemp_c']\n",
    "avgTemp = response['forecast']['forecastday'][0]['day']['avgtemp_c']\n",
    "chanceOfRain = response['forecast']['forecastday'][0]['day']['daily_chance_of_rain'] "
   ]
  },
  {
   "cell_type": "code",
   "execution_count": 10,
   "id": "954a4512",
   "metadata": {},
   "outputs": [],
   "source": [
    "messageWeather = \"Hola Admin, este es el pronostico del clima para el dia de hoy: {}\\n * Temperatura Minima: {} °C\\n * Temperatura Maxima: {} °C\\n * Temperatura Promedio: {} °C \\n * Posibilidad de Lluvia: {}%\".format(date, minTemp, maxTemp, avgTemp, chanceOfRain)"
   ]
  },
  {
   "cell_type": "code",
   "execution_count": 11,
   "id": "fa2f9cbc",
   "metadata": {},
   "outputs": [
    {
     "data": {
      "text/plain": [
       "'Hola Admin, este es el pronostico del clima para el dia de hoy: 2023-02-25\\n * Temperatura Minima: 5.6 °C\\n * Temperatura Maxima: 23.2 °C\\n * Temperatura Promedio: 14.3 °C \\n * Posibilidad de Lluvia: 0%'"
      ]
     },
     "execution_count": 11,
     "metadata": {},
     "output_type": "execute_result"
    }
   ],
   "source": [
    "messageWeather"
   ]
  },
  {
   "attachments": {},
   "cell_type": "markdown",
   "id": "8120801a",
   "metadata": {},
   "source": [
    "Creando Dataframe con la hora del posible pronostico de lluvia"
   ]
  },
  {
   "cell_type": "code",
   "execution_count": 12,
   "id": "55e08f59",
   "metadata": {},
   "outputs": [],
   "source": [
    "def get_forecast(response, i):\n",
    "    fecha = response['forecast']['forecastday'][0]['hour'][i]['time'].split()[0]\n",
    "    hora = int(response['forecast']['forecastday'][0]['hour'][i]['time'].split()[1].split(\":\")[0])\n",
    "    condicion = response['forecast']['forecastday'][0]['hour'][i]['condition']['text']\n",
    "    temperatura = response['forecast']['forecastday'][0]['hour'][i]['temp_c']\n",
    "    lluvia = response['forecast']['forecastday'][0]['hour'][i]['will_it_rain']\n",
    "    prob_lluvia = response['forecast']['forecastday'][0]['hour'][i]['chance_of_rain']\n",
    "\n",
    "    return fecha, hora, condicion, temperatura, lluvia, prob_lluvia\n"
   ]
  },
  {
   "cell_type": "code",
   "execution_count": 13,
   "id": "e79e2592",
   "metadata": {},
   "outputs": [
    {
     "name": "stderr",
     "output_type": "stream",
     "text": [
      "100%|\u001b[32m██████████\u001b[0m| 24/24 [00:00<?, ?it/s]\n"
     ]
    }
   ],
   "source": [
    "datos = []\n",
    "\n",
    "#libreria tqdm permite visualizar una barra de carga\n",
    "for i in tqdm(range(len(response['forecast']['forecastday'][0]['hour'])), colour = \"green\"):\n",
    "    datos.append(get_forecast(response, i))"
   ]
  },
  {
   "cell_type": "code",
   "execution_count": 14,
   "id": "1aeedf44",
   "metadata": {},
   "outputs": [
    {
     "data": {
      "text/html": [
       "<div>\n",
       "<style scoped>\n",
       "    .dataframe tbody tr th:only-of-type {\n",
       "        vertical-align: middle;\n",
       "    }\n",
       "\n",
       "    .dataframe tbody tr th {\n",
       "        vertical-align: top;\n",
       "    }\n",
       "\n",
       "    .dataframe thead th {\n",
       "        text-align: right;\n",
       "    }\n",
       "</style>\n",
       "<table border=\"1\" class=\"dataframe\">\n",
       "  <thead>\n",
       "    <tr style=\"text-align: right;\">\n",
       "      <th></th>\n",
       "      <th>fecha</th>\n",
       "      <th>hora</th>\n",
       "      <th>condicion</th>\n",
       "      <th>temperatura</th>\n",
       "      <th>lluvia</th>\n",
       "      <th>prob_lluvia</th>\n",
       "    </tr>\n",
       "  </thead>\n",
       "  <tbody>\n",
       "    <tr>\n",
       "      <th>0</th>\n",
       "      <td>2023-02-25</td>\n",
       "      <td>0</td>\n",
       "      <td>Partly cloudy</td>\n",
       "      <td>13.0</td>\n",
       "      <td>0</td>\n",
       "      <td>0</td>\n",
       "    </tr>\n",
       "    <tr>\n",
       "      <th>1</th>\n",
       "      <td>2023-02-25</td>\n",
       "      <td>1</td>\n",
       "      <td>Overcast</td>\n",
       "      <td>12.1</td>\n",
       "      <td>0</td>\n",
       "      <td>0</td>\n",
       "    </tr>\n",
       "    <tr>\n",
       "      <th>2</th>\n",
       "      <td>2023-02-25</td>\n",
       "      <td>2</td>\n",
       "      <td>Overcast</td>\n",
       "      <td>11.0</td>\n",
       "      <td>0</td>\n",
       "      <td>0</td>\n",
       "    </tr>\n",
       "    <tr>\n",
       "      <th>3</th>\n",
       "      <td>2023-02-25</td>\n",
       "      <td>3</td>\n",
       "      <td>Overcast</td>\n",
       "      <td>9.8</td>\n",
       "      <td>0</td>\n",
       "      <td>0</td>\n",
       "    </tr>\n",
       "    <tr>\n",
       "      <th>4</th>\n",
       "      <td>2023-02-25</td>\n",
       "      <td>4</td>\n",
       "      <td>Overcast</td>\n",
       "      <td>8.9</td>\n",
       "      <td>0</td>\n",
       "      <td>0</td>\n",
       "    </tr>\n",
       "    <tr>\n",
       "      <th>5</th>\n",
       "      <td>2023-02-25</td>\n",
       "      <td>5</td>\n",
       "      <td>Overcast</td>\n",
       "      <td>8.1</td>\n",
       "      <td>0</td>\n",
       "      <td>0</td>\n",
       "    </tr>\n",
       "    <tr>\n",
       "      <th>6</th>\n",
       "      <td>2023-02-25</td>\n",
       "      <td>6</td>\n",
       "      <td>Cloudy</td>\n",
       "      <td>7.3</td>\n",
       "      <td>0</td>\n",
       "      <td>0</td>\n",
       "    </tr>\n",
       "    <tr>\n",
       "      <th>7</th>\n",
       "      <td>2023-02-25</td>\n",
       "      <td>7</td>\n",
       "      <td>Partly cloudy</td>\n",
       "      <td>6.6</td>\n",
       "      <td>0</td>\n",
       "      <td>0</td>\n",
       "    </tr>\n",
       "    <tr>\n",
       "      <th>8</th>\n",
       "      <td>2023-02-25</td>\n",
       "      <td>8</td>\n",
       "      <td>Partly cloudy</td>\n",
       "      <td>5.8</td>\n",
       "      <td>0</td>\n",
       "      <td>0</td>\n",
       "    </tr>\n",
       "    <tr>\n",
       "      <th>9</th>\n",
       "      <td>2023-02-25</td>\n",
       "      <td>9</td>\n",
       "      <td>Partly cloudy</td>\n",
       "      <td>5.6</td>\n",
       "      <td>0</td>\n",
       "      <td>0</td>\n",
       "    </tr>\n",
       "    <tr>\n",
       "      <th>10</th>\n",
       "      <td>2023-02-25</td>\n",
       "      <td>10</td>\n",
       "      <td>Cloudy</td>\n",
       "      <td>7.1</td>\n",
       "      <td>0</td>\n",
       "      <td>0</td>\n",
       "    </tr>\n",
       "    <tr>\n",
       "      <th>11</th>\n",
       "      <td>2023-02-25</td>\n",
       "      <td>11</td>\n",
       "      <td>Partly cloudy</td>\n",
       "      <td>11.0</td>\n",
       "      <td>0</td>\n",
       "      <td>0</td>\n",
       "    </tr>\n",
       "    <tr>\n",
       "      <th>12</th>\n",
       "      <td>2023-02-25</td>\n",
       "      <td>12</td>\n",
       "      <td>Overcast</td>\n",
       "      <td>13.6</td>\n",
       "      <td>0</td>\n",
       "      <td>0</td>\n",
       "    </tr>\n",
       "    <tr>\n",
       "      <th>13</th>\n",
       "      <td>2023-02-25</td>\n",
       "      <td>13</td>\n",
       "      <td>Cloudy</td>\n",
       "      <td>17.1</td>\n",
       "      <td>0</td>\n",
       "      <td>0</td>\n",
       "    </tr>\n",
       "    <tr>\n",
       "      <th>14</th>\n",
       "      <td>2023-02-25</td>\n",
       "      <td>14</td>\n",
       "      <td>Overcast</td>\n",
       "      <td>18.8</td>\n",
       "      <td>0</td>\n",
       "      <td>0</td>\n",
       "    </tr>\n",
       "    <tr>\n",
       "      <th>15</th>\n",
       "      <td>2023-02-25</td>\n",
       "      <td>15</td>\n",
       "      <td>Overcast</td>\n",
       "      <td>20.1</td>\n",
       "      <td>0</td>\n",
       "      <td>0</td>\n",
       "    </tr>\n",
       "    <tr>\n",
       "      <th>16</th>\n",
       "      <td>2023-02-25</td>\n",
       "      <td>16</td>\n",
       "      <td>Partly cloudy</td>\n",
       "      <td>23.2</td>\n",
       "      <td>0</td>\n",
       "      <td>0</td>\n",
       "    </tr>\n",
       "    <tr>\n",
       "      <th>17</th>\n",
       "      <td>2023-02-25</td>\n",
       "      <td>17</td>\n",
       "      <td>Cloudy</td>\n",
       "      <td>22.4</td>\n",
       "      <td>0</td>\n",
       "      <td>0</td>\n",
       "    </tr>\n",
       "    <tr>\n",
       "      <th>18</th>\n",
       "      <td>2023-02-25</td>\n",
       "      <td>18</td>\n",
       "      <td>Partly cloudy</td>\n",
       "      <td>22.8</td>\n",
       "      <td>0</td>\n",
       "      <td>0</td>\n",
       "    </tr>\n",
       "    <tr>\n",
       "      <th>19</th>\n",
       "      <td>2023-02-25</td>\n",
       "      <td>19</td>\n",
       "      <td>Partly cloudy</td>\n",
       "      <td>23.2</td>\n",
       "      <td>0</td>\n",
       "      <td>0</td>\n",
       "    </tr>\n",
       "    <tr>\n",
       "      <th>20</th>\n",
       "      <td>2023-02-25</td>\n",
       "      <td>20</td>\n",
       "      <td>Clear</td>\n",
       "      <td>19.7</td>\n",
       "      <td>0</td>\n",
       "      <td>0</td>\n",
       "    </tr>\n",
       "    <tr>\n",
       "      <th>21</th>\n",
       "      <td>2023-02-25</td>\n",
       "      <td>21</td>\n",
       "      <td>Clear</td>\n",
       "      <td>18.8</td>\n",
       "      <td>0</td>\n",
       "      <td>0</td>\n",
       "    </tr>\n",
       "    <tr>\n",
       "      <th>22</th>\n",
       "      <td>2023-02-25</td>\n",
       "      <td>22</td>\n",
       "      <td>Cloudy</td>\n",
       "      <td>19.1</td>\n",
       "      <td>0</td>\n",
       "      <td>0</td>\n",
       "    </tr>\n",
       "    <tr>\n",
       "      <th>23</th>\n",
       "      <td>2023-02-25</td>\n",
       "      <td>23</td>\n",
       "      <td>Partly cloudy</td>\n",
       "      <td>17.6</td>\n",
       "      <td>0</td>\n",
       "      <td>0</td>\n",
       "    </tr>\n",
       "  </tbody>\n",
       "</table>\n",
       "</div>"
      ],
      "text/plain": [
       "         fecha  hora      condicion  temperatura  lluvia  prob_lluvia\n",
       "0   2023-02-25     0  Partly cloudy         13.0       0            0\n",
       "1   2023-02-25     1       Overcast         12.1       0            0\n",
       "2   2023-02-25     2       Overcast         11.0       0            0\n",
       "3   2023-02-25     3       Overcast          9.8       0            0\n",
       "4   2023-02-25     4       Overcast          8.9       0            0\n",
       "5   2023-02-25     5       Overcast          8.1       0            0\n",
       "6   2023-02-25     6         Cloudy          7.3       0            0\n",
       "7   2023-02-25     7  Partly cloudy          6.6       0            0\n",
       "8   2023-02-25     8  Partly cloudy          5.8       0            0\n",
       "9   2023-02-25     9  Partly cloudy          5.6       0            0\n",
       "10  2023-02-25    10         Cloudy          7.1       0            0\n",
       "11  2023-02-25    11  Partly cloudy         11.0       0            0\n",
       "12  2023-02-25    12       Overcast         13.6       0            0\n",
       "13  2023-02-25    13         Cloudy         17.1       0            0\n",
       "14  2023-02-25    14       Overcast         18.8       0            0\n",
       "15  2023-02-25    15       Overcast         20.1       0            0\n",
       "16  2023-02-25    16  Partly cloudy         23.2       0            0\n",
       "17  2023-02-25    17         Cloudy         22.4       0            0\n",
       "18  2023-02-25    18  Partly cloudy         22.8       0            0\n",
       "19  2023-02-25    19  Partly cloudy         23.2       0            0\n",
       "20  2023-02-25    20          Clear         19.7       0            0\n",
       "21  2023-02-25    21          Clear         18.8       0            0\n",
       "22  2023-02-25    22         Cloudy         19.1       0            0\n",
       "23  2023-02-25    23  Partly cloudy         17.6       0            0"
      ]
     },
     "execution_count": 14,
     "metadata": {},
     "output_type": "execute_result"
    }
   ],
   "source": [
    "#Creando data Frame\n",
    "col = ['fecha', 'hora', 'condicion', 'temperatura', 'lluvia', 'prob_lluvia']\n",
    "df = pd.DataFrame(datos, columns=col)\n",
    "df"
   ]
  },
  {
   "cell_type": "code",
   "execution_count": 15,
   "id": "7a649889",
   "metadata": {},
   "outputs": [
    {
     "data": {
      "text/html": [
       "<div>\n",
       "<style scoped>\n",
       "    .dataframe tbody tr th:only-of-type {\n",
       "        vertical-align: middle;\n",
       "    }\n",
       "\n",
       "    .dataframe tbody tr th {\n",
       "        vertical-align: top;\n",
       "    }\n",
       "\n",
       "    .dataframe thead th {\n",
       "        text-align: right;\n",
       "    }\n",
       "</style>\n",
       "<table border=\"1\" class=\"dataframe\">\n",
       "  <thead>\n",
       "    <tr style=\"text-align: right;\">\n",
       "      <th></th>\n",
       "      <th>fecha</th>\n",
       "      <th>hora</th>\n",
       "      <th>condicion</th>\n",
       "      <th>temperatura</th>\n",
       "      <th>lluvia</th>\n",
       "      <th>prob_lluvia</th>\n",
       "    </tr>\n",
       "  </thead>\n",
       "  <tbody>\n",
       "  </tbody>\n",
       "</table>\n",
       "</div>"
      ],
      "text/plain": [
       "Empty DataFrame\n",
       "Columns: [fecha, hora, condicion, temperatura, lluvia, prob_lluvia]\n",
       "Index: []"
      ]
     },
     "execution_count": 15,
     "metadata": {},
     "output_type": "execute_result"
    }
   ],
   "source": [
    "df_Final = df[df['prob_lluvia']>0]\n",
    "df_Final"
   ]
  },
  {
   "cell_type": "code",
   "execution_count": 16,
   "id": "f347142d",
   "metadata": {},
   "outputs": [],
   "source": [
    "if df_Final.empty == False:\n",
    "    messageWeather = messageWeather + \"\\n\" + str(df_Final)"
   ]
  },
  {
   "cell_type": "code",
   "execution_count": 17,
   "id": "c1622da5",
   "metadata": {},
   "outputs": [
    {
     "data": {
      "text/plain": [
       "'Hola Admin, este es el pronostico del clima para el dia de hoy: 2023-02-25\\n * Temperatura Minima: 5.6 °C\\n * Temperatura Maxima: 23.2 °C\\n * Temperatura Promedio: 14.3 °C \\n * Posibilidad de Lluvia: 0%'"
      ]
     },
     "execution_count": 17,
     "metadata": {},
     "output_type": "execute_result"
    }
   ],
   "source": [
    "messageWeather"
   ]
  },
  {
   "attachments": {},
   "cell_type": "markdown",
   "id": "a5d0f7c7",
   "metadata": {},
   "source": [
    "Enviando Mensaje por whats"
   ]
  },
  {
   "cell_type": "code",
   "execution_count": 19,
   "id": "c8e62194",
   "metadata": {},
   "outputs": [
    {
     "name": "stdout",
     "output_type": "stream",
     "text": [
      "Mensaje EnviadoSM8888b3107ca4c445eeacbbea548c681e\n"
     ]
    }
   ],
   "source": [
    "# Download the helper library from https://www.twilio.com/docs/python/install\n",
    "import os\n",
    "from twilio.rest import Client\n",
    "\n",
    "# Find your Account SID and Auth Token at twilio.com/console\n",
    "# and set the environment variables. See http://twil.io/secure\n",
    "account_sid = TWILIO_ACCOUNT_SID\n",
    "auth_token = \"92cd3b4491a17776c413d761807286db\" #TWILIO_AUTH_TOKEN\n",
    "client = Client(account_sid, auth_token)\n",
    "fromWhatsAppNumber = 'whatsapp:+14155238886'\n",
    "whatsappNumber = 'whatsapp:+5216565656768'\n",
    "\n",
    "message = client.messages.create(\n",
    "                    from_=fromWhatsAppNumber,\n",
    "                    body=messageWeather,\n",
    "                    to=whatsappNumber)\n",
    "\n",
    "print('Mensaje Enviado' + message.sid)"
   ]
  },
  {
   "attachments": {},
   "cell_type": "markdown",
   "id": "8e9efb29",
   "metadata": {},
   "source": [
    "Mensaje de Texto con Twilio"
   ]
  },
  {
   "cell_type": "code",
   "execution_count": 20,
   "id": "f4b3df00",
   "metadata": {},
   "outputs": [
    {
     "name": "stdout",
     "output_type": "stream",
     "text": [
      "Mensaje EnviadoSMf63cade7a2551a63aa50d547c87e954d\n"
     ]
    }
   ],
   "source": [
    "# Download the helper library from https://www.twilio.com/docs/python/install\n",
    "import os\n",
    "from twilio.rest import Client\n",
    "\n",
    "\n",
    "# Find your Account SID and Auth Token at twilio.com/console\n",
    "# and set the environment variables. See http://twil.io/secure\n",
    "account_sid = TWILIO_ACCOUNT_SID\n",
    "auth_token = \"92cd3b4491a17776c413d761807286db\" #TWILIO_AUTH_TOKEN\n",
    "client = Client(account_sid, auth_token)\n",
    "\n",
    "message = client.messages.create(\n",
    "         body= messageWeather,\n",
    "         from_=PHONE_NUMBER,\n",
    "         to='+526565656768'\n",
    "         #to='+526562665660'\n",
    "     )\n",
    "\n",
    "print('Mensaje Enviado' + message.sid)"
   ]
  }
 ],
 "metadata": {
  "kernelspec": {
   "display_name": "Python 3",
   "language": "python",
   "name": "python3"
  },
  "language_info": {
   "codemirror_mode": {
    "name": "ipython",
    "version": 3
   },
   "file_extension": ".py",
   "mimetype": "text/x-python",
   "name": "python",
   "nbconvert_exporter": "python",
   "pygments_lexer": "ipython3",
   "version": "3.11.3"
  },
  "vscode": {
   "interpreter": {
    "hash": "1824038650bface861ab2e0d352e48e8bf13c56ecd7269965364a54926c17ccb"
   }
  }
 },
 "nbformat": 4,
 "nbformat_minor": 5
}
