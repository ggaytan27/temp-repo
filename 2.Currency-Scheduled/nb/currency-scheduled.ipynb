{
 "cells": [
  {
   "cell_type": "markdown",
   "metadata": {},
   "source": [
    "## Libraries"
   ]
  },
  {
   "cell_type": "code",
   "execution_count": 29,
   "metadata": {},
   "outputs": [],
   "source": [
    "import sys\n",
    "import os\n",
    "from requests.auth import HTTPProxyAuth\n",
    "\n",
    "# Obtener la ruta del directorio actual del notebook\n",
    "notebook_dir = os.getcwd()\n",
    "\n",
    "# Añadir el directorio principal 'project' al path\n",
    "sys.path.append(os.path.abspath(os.path.join(notebook_dir, '..')))\n",
    "\n",
    "import config\n",
    "from config import PROXI_USER, PROXI_PWD, EMAIL, SUBJECT, PROXIES, API_TOKEN\n",
    "import pandas as pd\n",
    "\n",
    "import requests\n",
    "from requests import Request, Session\n",
    "from requests.exceptions import ConnectionError, Timeout, TooManyRedirects\n",
    "import json\n",
    "\n",
    "from bs4 import BeautifulSoup\n",
    "from tqdm import tqdm\n",
    "\n",
    "from requests_ntlm import HttpNtlmAuth\n"
   ]
  },
  {
   "cell_type": "markdown",
   "metadata": {},
   "source": [
    "## Data Collection"
   ]
  },
  {
   "cell_type": "markdown",
   "metadata": {},
   "source": [
    "### NO USAR"
   ]
  },
  {
   "cell_type": "code",
   "execution_count": 2,
   "metadata": {},
   "outputs": [],
   "source": [
    "#si se incluye mas de una fecha o serie, incluir /\n",
    "fecha = '2024-10-04'\n",
    "serie = 'SF43718'\n",
    "\n",
    "#url = \"https://www.banxico.org.mx/SieAPIRest/service/v1/series/\"+serie+\"/datos/\"+fecha+\"/\"+fecha+\"\"\n",
    "\n",
    "headers = {\n",
    "    'Bmx-Token': '80f8b40305f8c5067445bd8868c2be2fd29f526c597fbadffa7cca63509a25a7',  # Cambia esto por el header que necesites\n",
    "    'Content-Type': 'application/json',\n",
    "}\n",
    "\n",
    "proxies = PROXIES\n",
    "auth = HTTPProxyAuth(PROXI_USER, PROXI_PWD)\n"
   ]
  },
  {
   "cell_type": "markdown",
   "metadata": {},
   "source": [
    "### Precio Dollar"
   ]
  },
  {
   "cell_type": "code",
   "execution_count": 3,
   "metadata": {},
   "outputs": [],
   "source": [
    "#API_TOKEN = '80f8b40305f8c5067445bd8868c2be2fd29f526c597fbadffa7cca63509a25a7'\n",
    "url_banxico = 'https://www.banxico.org.mx/SieAPIRest/service/v1/series/SF43787,SF43784/datos/oportuno?token='+API_TOKEN"
   ]
  },
  {
   "cell_type": "code",
   "execution_count": 4,
   "metadata": {},
   "outputs": [],
   "source": [
    "try:\n",
    "    #response = requests.get(url,  proxies=proxies, auth=auth, headers=headers)\n",
    "    response = requests.get(url_banxico)\n",
    "    \n",
    "    if response.status_code == 200:\n",
    "        dataDolar = response.json()\n",
    "    else:\n",
    "        print(f\"Error en Peticio: {response.status_code}\")\n",
    "        print(f\"Detalles del error: {response.text}\")\n",
    "except requests.exceptions.RequestException as e:\n",
    "    print(f\"Request failed: {e}\")\n",
    "    #print(f\"Error: {response.status_code}, {response.text}\")\n"
   ]
  },
  {
   "cell_type": "markdown",
   "metadata": {},
   "source": [
    "### Precio Crypto-Monedas"
   ]
  },
  {
   "cell_type": "code",
   "execution_count": 5,
   "metadata": {},
   "outputs": [],
   "source": [
    "urlCriptos = 'https://api.coingecko.com/api/v3/coins/markets?vs_currency=usd&order=market_cap_desc&per_page=100&page=1&sparkline=false'\n"
   ]
  },
  {
   "cell_type": "code",
   "execution_count": 6,
   "metadata": {},
   "outputs": [],
   "source": [
    "try:\n",
    "    #response = requests.get(url,  proxies=proxies, auth=auth, headers=headers)\n",
    "    response = requests.get(urlCriptos)\n",
    "    \n",
    "    if response.status_code == 200:\n",
    "        dataCryptos = response.json()\n",
    "    else:\n",
    "        print(f\"Error en Peticio: {response.status_code}\")\n",
    "        print(f\"Detalles del error: {response.text}\")\n",
    "except requests.exceptions.RequestException as e:\n",
    "    print(f\"Request failed: {e}\")\n",
    "    #print(f\"Error: {response.status_code}, {response.text}\")"
   ]
  },
  {
   "cell_type": "markdown",
   "metadata": {},
   "source": [
    "## Data Understanding"
   ]
  },
  {
   "cell_type": "markdown",
   "metadata": {},
   "source": [
    "### Dolar"
   ]
  },
  {
   "cell_type": "code",
   "execution_count": 7,
   "metadata": {},
   "outputs": [
    {
     "data": {
      "text/plain": [
       "dict_keys(['bmx'])"
      ]
     },
     "execution_count": 7,
     "metadata": {},
     "output_type": "execute_result"
    }
   ],
   "source": [
    "dataDolar.keys()"
   ]
  },
  {
   "cell_type": "markdown",
   "metadata": {},
   "source": [
    "### Previo Venta"
   ]
  },
  {
   "cell_type": "code",
   "execution_count": 8,
   "metadata": {},
   "outputs": [],
   "source": [
    "#Venta\n",
    "fechaVenta = dataDolar['bmx']['series'][0]['datos'][0]['fecha']\n",
    "precioVenta = dataDolar['bmx']['series'][0]['datos'][0]['dato']"
   ]
  },
  {
   "cell_type": "markdown",
   "metadata": {},
   "source": [
    "### Precio Compra"
   ]
  },
  {
   "cell_type": "code",
   "execution_count": 9,
   "metadata": {},
   "outputs": [],
   "source": [
    "#Compra\n",
    "#response['bmx']['series'][1]\n",
    "fechaCompra = dataDolar['bmx']['series'][1]['datos'][0]['fecha']\n",
    "precioCompra = dataDolar['bmx']['series'][1]['datos'][0]['dato']"
   ]
  },
  {
   "cell_type": "markdown",
   "metadata": {},
   "source": [
    "### Crypto Monedas"
   ]
  },
  {
   "cell_type": "code",
   "execution_count": 10,
   "metadata": {},
   "outputs": [
    {
     "data": {
      "text/plain": [
       "{'id': 'bitcoin',\n",
       " 'symbol': 'btc',\n",
       " 'name': 'Bitcoin',\n",
       " 'image': 'https://coin-images.coingecko.com/coins/images/1/large/bitcoin.png?1696501400',\n",
       " 'current_price': 66228,\n",
       " 'market_cap': 1308075121808,\n",
       " 'market_cap_rank': 1,\n",
       " 'fully_diluted_valuation': 1389620220006,\n",
       " 'total_volume': 46079559044,\n",
       " 'high_24h': 66173,\n",
       " 'low_24h': 62465,\n",
       " 'price_change_24h': 3445.64,\n",
       " 'price_change_percentage_24h': 5.48819,\n",
       " 'market_cap_change_24h': 65621740068,\n",
       " 'market_cap_change_percentage_24h': 5.28163,\n",
       " 'circulating_supply': 19767687.0,\n",
       " 'total_supply': 21000000.0,\n",
       " 'max_supply': 21000000.0,\n",
       " 'ath': 73738,\n",
       " 'ath_change_percentage': -10.43974,\n",
       " 'ath_date': '2024-03-14T07:10:36.635Z',\n",
       " 'atl': 67.81,\n",
       " 'atl_change_percentage': 97291.03485,\n",
       " 'atl_date': '2013-07-06T00:00:00.000Z',\n",
       " 'roi': None,\n",
       " 'last_updated': '2024-10-14T22:45:47.867Z'}"
      ]
     },
     "execution_count": 10,
     "metadata": {},
     "output_type": "execute_result"
    }
   ],
   "source": [
    "dataCryptos[0]"
   ]
  },
  {
   "cell_type": "markdown",
   "metadata": {},
   "source": [
    "### Codigo"
   ]
  },
  {
   "cell_type": "code",
   "execution_count": 13,
   "metadata": {},
   "outputs": [
    {
     "data": {
      "text/plain": [
       "'bitcoin'"
      ]
     },
     "execution_count": 13,
     "metadata": {},
     "output_type": "execute_result"
    }
   ],
   "source": [
    "dataCryptos[0]['id']"
   ]
  },
  {
   "cell_type": "markdown",
   "metadata": {},
   "source": [
    "### Nombre"
   ]
  },
  {
   "cell_type": "code",
   "execution_count": 15,
   "metadata": {},
   "outputs": [
    {
     "data": {
      "text/plain": [
       "'Bitcoin'"
      ]
     },
     "execution_count": 15,
     "metadata": {},
     "output_type": "execute_result"
    }
   ],
   "source": [
    "dataCryptos[0]['name']"
   ]
  },
  {
   "cell_type": "markdown",
   "metadata": {},
   "source": [
    "### Precio\n"
   ]
  },
  {
   "cell_type": "code",
   "execution_count": 16,
   "metadata": {},
   "outputs": [
    {
     "data": {
      "text/plain": [
       "66228"
      ]
     },
     "execution_count": 16,
     "metadata": {},
     "output_type": "execute_result"
    }
   ],
   "source": [
    "dataCryptos[0]['current_price']"
   ]
  },
  {
   "cell_type": "markdown",
   "metadata": {},
   "source": [
    "### Last Updated"
   ]
  },
  {
   "cell_type": "code",
   "execution_count": 26,
   "metadata": {},
   "outputs": [
    {
     "data": {
      "text/plain": [
       "'2024-10-14'"
      ]
     },
     "execution_count": 26,
     "metadata": {},
     "output_type": "execute_result"
    }
   ],
   "source": [
    "dataCryptos[0]['last_updated'].split('T')[0]"
   ]
  },
  {
   "cell_type": "markdown",
   "metadata": {},
   "source": [
    "## Data Preparation"
   ]
  },
  {
   "cell_type": "markdown",
   "metadata": {},
   "source": [
    "### Precio Dolar - Armado de Mensaje"
   ]
  },
  {
   "cell_type": "code",
   "execution_count": 26,
   "metadata": {},
   "outputs": [
    {
     "name": "stdout",
     "output_type": "stream",
     "text": [
      "\n",
      "Hola, Informacion sobre tipo de Cambio:\n",
      "Venta:\n",
      " Fecha Venta: 14/10/2024\n",
      " Valor: $19.3580\n",
      "Compra\n",
      " Fecha Compra: 14/10/2024\n",
      " Valor: $19.3490\n"
     ]
    }
   ],
   "source": [
    "mensaje = \"\\nHola, Informacion sobre tipo de Cambio:\\nVenta:\\n Fecha Venta: {}\\n Valor: ${}\\nCompra\\n Fecha Compra: {}\\n Valor: ${}\".format(fechaVenta, precioVenta, fechaCompra, precioCompra)\n",
    "print(mensaje)"
   ]
  },
  {
   "cell_type": "markdown",
   "metadata": {},
   "source": [
    "### Precio Crypto Monedas"
   ]
  },
  {
   "cell_type": "code",
   "execution_count": 31,
   "metadata": {},
   "outputs": [],
   "source": [
    "def get_crypto(data, i):\n",
    "    id = dataCryptos[i]['id']\n",
    "    name = dataCryptos[i]['name']\n",
    "    price = dataCryptos[i]['current_price']\n",
    "    dateUpdate = dataCryptos[i]['last_updated'].split('T')[0]\n",
    "    timeUpdate = dataCryptos[i]['last_updated'].split('T')[1]\n",
    "    \n",
    "\n",
    "    return id, name, price, dateUpdate, timeUpdate\n",
    "    "
   ]
  },
  {
   "cell_type": "code",
   "execution_count": 34,
   "metadata": {},
   "outputs": [
    {
     "name": "stderr",
     "output_type": "stream",
     "text": [
      "100%|\u001b[34m██████████\u001b[0m| 10/10 [00:00<00:00, 14315.03it/s]\n"
     ]
    }
   ],
   "source": [
    "data = []\n",
    "\n",
    "for i in tqdm(range(0, 10), colour= 'blue'):\n",
    "    data.append(get_crypto(dataCryptos, i))"
   ]
  },
  {
   "cell_type": "code",
   "execution_count": 33,
   "metadata": {},
   "outputs": [
    {
     "data": {
      "text/html": [
       "<div>\n",
       "<style scoped>\n",
       "    .dataframe tbody tr th:only-of-type {\n",
       "        vertical-align: middle;\n",
       "    }\n",
       "\n",
       "    .dataframe tbody tr th {\n",
       "        vertical-align: top;\n",
       "    }\n",
       "\n",
       "    .dataframe thead th {\n",
       "        text-align: right;\n",
       "    }\n",
       "</style>\n",
       "<table border=\"1\" class=\"dataframe\">\n",
       "  <thead>\n",
       "    <tr style=\"text-align: right;\">\n",
       "      <th></th>\n",
       "      <th>Id</th>\n",
       "      <th>Name</th>\n",
       "      <th>Current_Price</th>\n",
       "      <th>Date_Updated</th>\n",
       "      <th>Time_Updated</th>\n",
       "    </tr>\n",
       "  </thead>\n",
       "  <tbody>\n",
       "    <tr>\n",
       "      <th>0</th>\n",
       "      <td>bitcoin</td>\n",
       "      <td>Bitcoin</td>\n",
       "      <td>66228.000000</td>\n",
       "      <td>2024-10-14</td>\n",
       "      <td>22:45:47.867Z</td>\n",
       "    </tr>\n",
       "    <tr>\n",
       "      <th>1</th>\n",
       "      <td>ethereum</td>\n",
       "      <td>Ethereum</td>\n",
       "      <td>2637.120000</td>\n",
       "      <td>2024-10-14</td>\n",
       "      <td>22:45:58.064Z</td>\n",
       "    </tr>\n",
       "    <tr>\n",
       "      <th>2</th>\n",
       "      <td>tether</td>\n",
       "      <td>Tether</td>\n",
       "      <td>1.001000</td>\n",
       "      <td>2024-10-14</td>\n",
       "      <td>22:45:52.128Z</td>\n",
       "    </tr>\n",
       "    <tr>\n",
       "      <th>3</th>\n",
       "      <td>binancecoin</td>\n",
       "      <td>BNB</td>\n",
       "      <td>589.880000</td>\n",
       "      <td>2024-10-14</td>\n",
       "      <td>22:45:46.026Z</td>\n",
       "    </tr>\n",
       "    <tr>\n",
       "      <th>4</th>\n",
       "      <td>solana</td>\n",
       "      <td>Solana</td>\n",
       "      <td>157.060000</td>\n",
       "      <td>2024-10-14</td>\n",
       "      <td>22:45:53.477Z</td>\n",
       "    </tr>\n",
       "    <tr>\n",
       "      <th>5</th>\n",
       "      <td>usd-coin</td>\n",
       "      <td>USDC</td>\n",
       "      <td>1.000000</td>\n",
       "      <td>2024-10-14</td>\n",
       "      <td>22:45:53.727Z</td>\n",
       "    </tr>\n",
       "    <tr>\n",
       "      <th>6</th>\n",
       "      <td>ripple</td>\n",
       "      <td>XRP</td>\n",
       "      <td>0.548861</td>\n",
       "      <td>2024-10-14</td>\n",
       "      <td>22:45:56.285Z</td>\n",
       "    </tr>\n",
       "    <tr>\n",
       "      <th>7</th>\n",
       "      <td>staked-ether</td>\n",
       "      <td>Lido Staked Ether</td>\n",
       "      <td>2635.850000</td>\n",
       "      <td>2024-10-14</td>\n",
       "      <td>22:45:50.618Z</td>\n",
       "    </tr>\n",
       "    <tr>\n",
       "      <th>8</th>\n",
       "      <td>dogecoin</td>\n",
       "      <td>Dogecoin</td>\n",
       "      <td>0.116993</td>\n",
       "      <td>2024-10-14</td>\n",
       "      <td>22:45:47.622Z</td>\n",
       "    </tr>\n",
       "    <tr>\n",
       "      <th>9</th>\n",
       "      <td>tron</td>\n",
       "      <td>TRON</td>\n",
       "      <td>0.160960</td>\n",
       "      <td>2024-10-14</td>\n",
       "      <td>22:45:52.521Z</td>\n",
       "    </tr>\n",
       "    <tr>\n",
       "      <th>10</th>\n",
       "      <td>the-open-network</td>\n",
       "      <td>Toncoin</td>\n",
       "      <td>5.340000</td>\n",
       "      <td>2024-10-14</td>\n",
       "      <td>22:45:55.088Z</td>\n",
       "    </tr>\n",
       "  </tbody>\n",
       "</table>\n",
       "</div>"
      ],
      "text/plain": [
       "                  Id               Name  Current_Price Date_Updated  \\\n",
       "0            bitcoin            Bitcoin   66228.000000   2024-10-14   \n",
       "1           ethereum           Ethereum    2637.120000   2024-10-14   \n",
       "2             tether             Tether       1.001000   2024-10-14   \n",
       "3        binancecoin                BNB     589.880000   2024-10-14   \n",
       "4             solana             Solana     157.060000   2024-10-14   \n",
       "5           usd-coin               USDC       1.000000   2024-10-14   \n",
       "6             ripple                XRP       0.548861   2024-10-14   \n",
       "7       staked-ether  Lido Staked Ether    2635.850000   2024-10-14   \n",
       "8           dogecoin           Dogecoin       0.116993   2024-10-14   \n",
       "9               tron               TRON       0.160960   2024-10-14   \n",
       "10  the-open-network            Toncoin       5.340000   2024-10-14   \n",
       "\n",
       "     Time_Updated  \n",
       "0   22:45:47.867Z  \n",
       "1   22:45:58.064Z  \n",
       "2   22:45:52.128Z  \n",
       "3   22:45:46.026Z  \n",
       "4   22:45:53.477Z  \n",
       "5   22:45:53.727Z  \n",
       "6   22:45:56.285Z  \n",
       "7   22:45:50.618Z  \n",
       "8   22:45:47.622Z  \n",
       "9   22:45:52.521Z  \n",
       "10  22:45:55.088Z  "
      ]
     },
     "execution_count": 33,
     "metadata": {},
     "output_type": "execute_result"
    }
   ],
   "source": [
    "col = ['Id', 'Name', 'Current_Price', 'Date_Updated', 'Time_Updated']\n",
    "df_cryptos = pd.DataFrame(data, columns=col)\n",
    "\n",
    "df_cryptos"
   ]
  },
  {
   "cell_type": "code",
   "execution_count": null,
   "metadata": {},
   "outputs": [],
   "source": []
  },
  {
   "cell_type": "code",
   "execution_count": null,
   "metadata": {},
   "outputs": [],
   "source": []
  },
  {
   "cell_type": "code",
   "execution_count": null,
   "metadata": {},
   "outputs": [],
   "source": []
  }
 ],
 "metadata": {
  "kernelspec": {
   "display_name": "env",
   "language": "python",
   "name": "python3"
  },
  "language_info": {
   "codemirror_mode": {
    "name": "ipython",
    "version": 3
   },
   "file_extension": ".py",
   "mimetype": "text/x-python",
   "name": "python",
   "nbconvert_exporter": "python",
   "pygments_lexer": "ipython3",
   "version": "3.12.3"
  }
 },
 "nbformat": 4,
 "nbformat_minor": 2
}
